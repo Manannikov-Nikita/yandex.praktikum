{
 "cells": [
  {
   "cell_type": "markdown",
   "metadata": {},
   "source": [
    "Привет, Никита! Меня зовут Максим Слотин, я буду делать ревью твоего проекта. Давай будем общаться на «ты».\n",
    "\n",
    "Ты проделал большую исследовательскую работу! Твой проект очень хорошо структурирован, ты делаешь хорошие понятные выводы и выбираешь наглядные типы графиков. Мои комментарии будут в ячейках \"Комментарий от ревьюера\".\n",
    "\n",
    "<div class=\"alert alert-danger\"> \n",
    "<h2> Комментарии от ревьюера №1</h2>\n",
    "Красным цветом обозначены комментарии, на которые тебе нужно обратить внимание в первую очередь, чтобы я принял проект. \n",
    "</div>\n",
    "<div class=\"alert alert-warning\">\n",
    "<h2> Комментарии от ревьюера №1</h2>\n",
    "Желтым цветом отмечено то, что ты можешь сделать немного по другому. Ты можешь учесть эти комментарии при выполнении следующих проектов.\n",
    "</div>\n",
    "<div class=\"alert alert-success\">\n",
    "<h2> Комментарии от ревьюера №1</h2>\n",
    "Зелёным цветом обозначены твои удачные решения, которые ты без сомнения можешь применять в будущих проектах.\n",
    "</div>\n",
    "\n",
    "#### Пожалуста, не удаляй мои комментарии и относись к ним бережно. При повторной проверке, я буду ориентироваться на них. \n",
    "\n",
    "###### Можешь под моими комментариями оставлять свои, в которых опиши свои испарвления. Это облегчит процесс проверки и мне, и тебе  :) \n",
    "\n",
    "Например, вот так:\n",
    "\n",
    "<div class=\"alert alert-block alert-info\">\n",
    "<b>КОММЕНТАРИЙ ОТ УЧЕНИКА:</b>\n",
    "</div>\n",
    "---"
   ]
  },
  {
   "cell_type": "markdown",
   "metadata": {},
   "source": [
    "</div>\n",
    "<div class=\"alert alert-success\">\n",
    "<h2> Комментарии от ревьюера №2</h2>\n",
    "    \n",
    "У тебя в итоге вышел отличный проект)\n",
    "    \n",
    "Спасибо, что довольно внимательно и терпеливо отреагировал на мои комментарии 😊\n",
    "    \n",
    "Я ниже не комментировал конкретных моментов, так как все в целом, что я хотел, ты поправил\n",
    "    \n",
    "Желаю тебе дальше успехов в учебе)\n",
    "</div>"
   ]
  },
  {
   "cell_type": "markdown",
   "metadata": {},
   "source": [
    "## Исследование надёжности заёмщиков\n",
    "\n",
    "Заказчик — кредитный отдел банка. Нужно разобраться, влияет ли семейное положение и количество детей клиента на факт погашения кредита в срок. Входные данные от банка — статистика о платёжеспособности клиентов.\n",
    "\n",
    "Результаты исследования будут учтены при построении модели **кредитного скоринга** — специальной системы, которая оценивает способность потенциального заёмщика вернуть кредит банку."
   ]
  },
  {
   "cell_type": "markdown",
   "metadata": {},
   "source": [
    "### Шаг 1. Откройте файл с данными и изучите общую информацию. "
   ]
  },
  {
   "cell_type": "code",
   "execution_count": 1,
   "metadata": {},
   "outputs": [
    {
     "data": {
      "text/html": [
       "<div>\n",
       "<style scoped>\n",
       "    .dataframe tbody tr th:only-of-type {\n",
       "        vertical-align: middle;\n",
       "    }\n",
       "\n",
       "    .dataframe tbody tr th {\n",
       "        vertical-align: top;\n",
       "    }\n",
       "\n",
       "    .dataframe thead th {\n",
       "        text-align: right;\n",
       "    }\n",
       "</style>\n",
       "<table border=\"1\" class=\"dataframe\">\n",
       "  <thead>\n",
       "    <tr style=\"text-align: right;\">\n",
       "      <th></th>\n",
       "      <th>children</th>\n",
       "      <th>days_employed</th>\n",
       "      <th>dob_years</th>\n",
       "      <th>education</th>\n",
       "      <th>education_id</th>\n",
       "      <th>family_status</th>\n",
       "      <th>family_status_id</th>\n",
       "      <th>gender</th>\n",
       "      <th>income_type</th>\n",
       "      <th>debt</th>\n",
       "      <th>total_income</th>\n",
       "      <th>purpose</th>\n",
       "    </tr>\n",
       "  </thead>\n",
       "  <tbody>\n",
       "    <tr>\n",
       "      <td>0</td>\n",
       "      <td>1</td>\n",
       "      <td>-8437.673028</td>\n",
       "      <td>42</td>\n",
       "      <td>высшее</td>\n",
       "      <td>0</td>\n",
       "      <td>женат / замужем</td>\n",
       "      <td>0</td>\n",
       "      <td>F</td>\n",
       "      <td>сотрудник</td>\n",
       "      <td>0</td>\n",
       "      <td>253875.639453</td>\n",
       "      <td>покупка жилья</td>\n",
       "    </tr>\n",
       "    <tr>\n",
       "      <td>1</td>\n",
       "      <td>1</td>\n",
       "      <td>-4024.803754</td>\n",
       "      <td>36</td>\n",
       "      <td>среднее</td>\n",
       "      <td>1</td>\n",
       "      <td>женат / замужем</td>\n",
       "      <td>0</td>\n",
       "      <td>F</td>\n",
       "      <td>сотрудник</td>\n",
       "      <td>0</td>\n",
       "      <td>112080.014102</td>\n",
       "      <td>приобретение автомобиля</td>\n",
       "    </tr>\n",
       "    <tr>\n",
       "      <td>2</td>\n",
       "      <td>0</td>\n",
       "      <td>-5623.422610</td>\n",
       "      <td>33</td>\n",
       "      <td>Среднее</td>\n",
       "      <td>1</td>\n",
       "      <td>женат / замужем</td>\n",
       "      <td>0</td>\n",
       "      <td>M</td>\n",
       "      <td>сотрудник</td>\n",
       "      <td>0</td>\n",
       "      <td>145885.952297</td>\n",
       "      <td>покупка жилья</td>\n",
       "    </tr>\n",
       "    <tr>\n",
       "      <td>3</td>\n",
       "      <td>3</td>\n",
       "      <td>-4124.747207</td>\n",
       "      <td>32</td>\n",
       "      <td>среднее</td>\n",
       "      <td>1</td>\n",
       "      <td>женат / замужем</td>\n",
       "      <td>0</td>\n",
       "      <td>M</td>\n",
       "      <td>сотрудник</td>\n",
       "      <td>0</td>\n",
       "      <td>267628.550329</td>\n",
       "      <td>дополнительное образование</td>\n",
       "    </tr>\n",
       "    <tr>\n",
       "      <td>4</td>\n",
       "      <td>0</td>\n",
       "      <td>340266.072047</td>\n",
       "      <td>53</td>\n",
       "      <td>среднее</td>\n",
       "      <td>1</td>\n",
       "      <td>гражданский брак</td>\n",
       "      <td>1</td>\n",
       "      <td>F</td>\n",
       "      <td>пенсионер</td>\n",
       "      <td>0</td>\n",
       "      <td>158616.077870</td>\n",
       "      <td>сыграть свадьбу</td>\n",
       "    </tr>\n",
       "    <tr>\n",
       "      <td>5</td>\n",
       "      <td>0</td>\n",
       "      <td>-926.185831</td>\n",
       "      <td>27</td>\n",
       "      <td>высшее</td>\n",
       "      <td>0</td>\n",
       "      <td>гражданский брак</td>\n",
       "      <td>1</td>\n",
       "      <td>M</td>\n",
       "      <td>компаньон</td>\n",
       "      <td>0</td>\n",
       "      <td>255763.565419</td>\n",
       "      <td>покупка жилья</td>\n",
       "    </tr>\n",
       "    <tr>\n",
       "      <td>6</td>\n",
       "      <td>0</td>\n",
       "      <td>-2879.202052</td>\n",
       "      <td>43</td>\n",
       "      <td>высшее</td>\n",
       "      <td>0</td>\n",
       "      <td>женат / замужем</td>\n",
       "      <td>0</td>\n",
       "      <td>F</td>\n",
       "      <td>компаньон</td>\n",
       "      <td>0</td>\n",
       "      <td>240525.971920</td>\n",
       "      <td>операции с жильем</td>\n",
       "    </tr>\n",
       "    <tr>\n",
       "      <td>7</td>\n",
       "      <td>0</td>\n",
       "      <td>-152.779569</td>\n",
       "      <td>50</td>\n",
       "      <td>СРЕДНЕЕ</td>\n",
       "      <td>1</td>\n",
       "      <td>женат / замужем</td>\n",
       "      <td>0</td>\n",
       "      <td>M</td>\n",
       "      <td>сотрудник</td>\n",
       "      <td>0</td>\n",
       "      <td>135823.934197</td>\n",
       "      <td>образование</td>\n",
       "    </tr>\n",
       "    <tr>\n",
       "      <td>8</td>\n",
       "      <td>2</td>\n",
       "      <td>-6929.865299</td>\n",
       "      <td>35</td>\n",
       "      <td>ВЫСШЕЕ</td>\n",
       "      <td>0</td>\n",
       "      <td>гражданский брак</td>\n",
       "      <td>1</td>\n",
       "      <td>F</td>\n",
       "      <td>сотрудник</td>\n",
       "      <td>0</td>\n",
       "      <td>95856.832424</td>\n",
       "      <td>на проведение свадьбы</td>\n",
       "    </tr>\n",
       "    <tr>\n",
       "      <td>9</td>\n",
       "      <td>0</td>\n",
       "      <td>-2188.756445</td>\n",
       "      <td>41</td>\n",
       "      <td>среднее</td>\n",
       "      <td>1</td>\n",
       "      <td>женат / замужем</td>\n",
       "      <td>0</td>\n",
       "      <td>M</td>\n",
       "      <td>сотрудник</td>\n",
       "      <td>0</td>\n",
       "      <td>144425.938277</td>\n",
       "      <td>покупка жилья для семьи</td>\n",
       "    </tr>\n",
       "    <tr>\n",
       "      <td>10</td>\n",
       "      <td>2</td>\n",
       "      <td>-4171.483647</td>\n",
       "      <td>36</td>\n",
       "      <td>высшее</td>\n",
       "      <td>0</td>\n",
       "      <td>женат / замужем</td>\n",
       "      <td>0</td>\n",
       "      <td>M</td>\n",
       "      <td>компаньон</td>\n",
       "      <td>0</td>\n",
       "      <td>113943.491460</td>\n",
       "      <td>покупка недвижимости</td>\n",
       "    </tr>\n",
       "    <tr>\n",
       "      <td>11</td>\n",
       "      <td>0</td>\n",
       "      <td>-792.701887</td>\n",
       "      <td>40</td>\n",
       "      <td>среднее</td>\n",
       "      <td>1</td>\n",
       "      <td>женат / замужем</td>\n",
       "      <td>0</td>\n",
       "      <td>F</td>\n",
       "      <td>сотрудник</td>\n",
       "      <td>0</td>\n",
       "      <td>77069.234271</td>\n",
       "      <td>покупка коммерческой недвижимости</td>\n",
       "    </tr>\n",
       "    <tr>\n",
       "      <td>12</td>\n",
       "      <td>0</td>\n",
       "      <td>NaN</td>\n",
       "      <td>65</td>\n",
       "      <td>среднее</td>\n",
       "      <td>1</td>\n",
       "      <td>гражданский брак</td>\n",
       "      <td>1</td>\n",
       "      <td>M</td>\n",
       "      <td>пенсионер</td>\n",
       "      <td>0</td>\n",
       "      <td>NaN</td>\n",
       "      <td>сыграть свадьбу</td>\n",
       "    </tr>\n",
       "    <tr>\n",
       "      <td>13</td>\n",
       "      <td>0</td>\n",
       "      <td>-1846.641941</td>\n",
       "      <td>54</td>\n",
       "      <td>неоконченное высшее</td>\n",
       "      <td>2</td>\n",
       "      <td>женат / замужем</td>\n",
       "      <td>0</td>\n",
       "      <td>F</td>\n",
       "      <td>сотрудник</td>\n",
       "      <td>0</td>\n",
       "      <td>130458.228857</td>\n",
       "      <td>приобретение автомобиля</td>\n",
       "    </tr>\n",
       "    <tr>\n",
       "      <td>14</td>\n",
       "      <td>0</td>\n",
       "      <td>-1844.956182</td>\n",
       "      <td>56</td>\n",
       "      <td>высшее</td>\n",
       "      <td>0</td>\n",
       "      <td>гражданский брак</td>\n",
       "      <td>1</td>\n",
       "      <td>F</td>\n",
       "      <td>компаньон</td>\n",
       "      <td>1</td>\n",
       "      <td>165127.911772</td>\n",
       "      <td>покупка жилой недвижимости</td>\n",
       "    </tr>\n",
       "    <tr>\n",
       "      <td>15</td>\n",
       "      <td>1</td>\n",
       "      <td>-972.364419</td>\n",
       "      <td>26</td>\n",
       "      <td>среднее</td>\n",
       "      <td>1</td>\n",
       "      <td>женат / замужем</td>\n",
       "      <td>0</td>\n",
       "      <td>F</td>\n",
       "      <td>сотрудник</td>\n",
       "      <td>0</td>\n",
       "      <td>116820.904450</td>\n",
       "      <td>строительство собственной недвижимости</td>\n",
       "    </tr>\n",
       "    <tr>\n",
       "      <td>16</td>\n",
       "      <td>0</td>\n",
       "      <td>-1719.934226</td>\n",
       "      <td>35</td>\n",
       "      <td>среднее</td>\n",
       "      <td>1</td>\n",
       "      <td>женат / замужем</td>\n",
       "      <td>0</td>\n",
       "      <td>F</td>\n",
       "      <td>сотрудник</td>\n",
       "      <td>0</td>\n",
       "      <td>289202.704229</td>\n",
       "      <td>недвижимость</td>\n",
       "    </tr>\n",
       "    <tr>\n",
       "      <td>17</td>\n",
       "      <td>0</td>\n",
       "      <td>-2369.999720</td>\n",
       "      <td>33</td>\n",
       "      <td>высшее</td>\n",
       "      <td>0</td>\n",
       "      <td>гражданский брак</td>\n",
       "      <td>1</td>\n",
       "      <td>M</td>\n",
       "      <td>сотрудник</td>\n",
       "      <td>0</td>\n",
       "      <td>90410.586745</td>\n",
       "      <td>строительство недвижимости</td>\n",
       "    </tr>\n",
       "    <tr>\n",
       "      <td>18</td>\n",
       "      <td>0</td>\n",
       "      <td>400281.136913</td>\n",
       "      <td>53</td>\n",
       "      <td>среднее</td>\n",
       "      <td>1</td>\n",
       "      <td>вдовец / вдова</td>\n",
       "      <td>2</td>\n",
       "      <td>F</td>\n",
       "      <td>пенсионер</td>\n",
       "      <td>0</td>\n",
       "      <td>56823.777243</td>\n",
       "      <td>на покупку подержанного автомобиля</td>\n",
       "    </tr>\n",
       "    <tr>\n",
       "      <td>19</td>\n",
       "      <td>0</td>\n",
       "      <td>-10038.818549</td>\n",
       "      <td>48</td>\n",
       "      <td>СРЕДНЕЕ</td>\n",
       "      <td>1</td>\n",
       "      <td>в разводе</td>\n",
       "      <td>3</td>\n",
       "      <td>F</td>\n",
       "      <td>сотрудник</td>\n",
       "      <td>0</td>\n",
       "      <td>242831.107982</td>\n",
       "      <td>на покупку своего автомобиля</td>\n",
       "    </tr>\n",
       "    <tr>\n",
       "      <td>20</td>\n",
       "      <td>1</td>\n",
       "      <td>-1311.604166</td>\n",
       "      <td>36</td>\n",
       "      <td>среднее</td>\n",
       "      <td>1</td>\n",
       "      <td>женат / замужем</td>\n",
       "      <td>0</td>\n",
       "      <td>M</td>\n",
       "      <td>сотрудник</td>\n",
       "      <td>0</td>\n",
       "      <td>209552.644578</td>\n",
       "      <td>недвижимость</td>\n",
       "    </tr>\n",
       "    <tr>\n",
       "      <td>21</td>\n",
       "      <td>1</td>\n",
       "      <td>-253.685166</td>\n",
       "      <td>33</td>\n",
       "      <td>среднее</td>\n",
       "      <td>1</td>\n",
       "      <td>гражданский брак</td>\n",
       "      <td>1</td>\n",
       "      <td>F</td>\n",
       "      <td>сотрудник</td>\n",
       "      <td>0</td>\n",
       "      <td>131812.203909</td>\n",
       "      <td>приобретение автомобиля</td>\n",
       "    </tr>\n",
       "    <tr>\n",
       "      <td>22</td>\n",
       "      <td>1</td>\n",
       "      <td>-1766.644138</td>\n",
       "      <td>24</td>\n",
       "      <td>среднее</td>\n",
       "      <td>1</td>\n",
       "      <td>гражданский брак</td>\n",
       "      <td>1</td>\n",
       "      <td>F</td>\n",
       "      <td>сотрудник</td>\n",
       "      <td>0</td>\n",
       "      <td>149681.140731</td>\n",
       "      <td>на покупку подержанного автомобиля</td>\n",
       "    </tr>\n",
       "    <tr>\n",
       "      <td>23</td>\n",
       "      <td>0</td>\n",
       "      <td>-272.981385</td>\n",
       "      <td>21</td>\n",
       "      <td>высшее</td>\n",
       "      <td>0</td>\n",
       "      <td>гражданский брак</td>\n",
       "      <td>1</td>\n",
       "      <td>M</td>\n",
       "      <td>сотрудник</td>\n",
       "      <td>0</td>\n",
       "      <td>128265.720871</td>\n",
       "      <td>сыграть свадьбу</td>\n",
       "    </tr>\n",
       "    <tr>\n",
       "      <td>24</td>\n",
       "      <td>1</td>\n",
       "      <td>338551.952911</td>\n",
       "      <td>57</td>\n",
       "      <td>среднее</td>\n",
       "      <td>1</td>\n",
       "      <td>Не женат / не замужем</td>\n",
       "      <td>4</td>\n",
       "      <td>F</td>\n",
       "      <td>пенсионер</td>\n",
       "      <td>0</td>\n",
       "      <td>290547.235997</td>\n",
       "      <td>операции с коммерческой недвижимостью</td>\n",
       "    </tr>\n",
       "    <tr>\n",
       "      <td>25</td>\n",
       "      <td>0</td>\n",
       "      <td>363548.489348</td>\n",
       "      <td>67</td>\n",
       "      <td>среднее</td>\n",
       "      <td>1</td>\n",
       "      <td>женат / замужем</td>\n",
       "      <td>0</td>\n",
       "      <td>M</td>\n",
       "      <td>пенсионер</td>\n",
       "      <td>0</td>\n",
       "      <td>55112.757732</td>\n",
       "      <td>покупка недвижимости</td>\n",
       "    </tr>\n",
       "    <tr>\n",
       "      <td>26</td>\n",
       "      <td>0</td>\n",
       "      <td>NaN</td>\n",
       "      <td>41</td>\n",
       "      <td>среднее</td>\n",
       "      <td>1</td>\n",
       "      <td>женат / замужем</td>\n",
       "      <td>0</td>\n",
       "      <td>M</td>\n",
       "      <td>госслужащий</td>\n",
       "      <td>0</td>\n",
       "      <td>NaN</td>\n",
       "      <td>образование</td>\n",
       "    </tr>\n",
       "    <tr>\n",
       "      <td>27</td>\n",
       "      <td>0</td>\n",
       "      <td>-529.191635</td>\n",
       "      <td>28</td>\n",
       "      <td>высшее</td>\n",
       "      <td>0</td>\n",
       "      <td>женат / замужем</td>\n",
       "      <td>0</td>\n",
       "      <td>M</td>\n",
       "      <td>сотрудник</td>\n",
       "      <td>0</td>\n",
       "      <td>308848.983691</td>\n",
       "      <td>строительство собственной недвижимости</td>\n",
       "    </tr>\n",
       "    <tr>\n",
       "      <td>28</td>\n",
       "      <td>1</td>\n",
       "      <td>-717.274324</td>\n",
       "      <td>26</td>\n",
       "      <td>высшее</td>\n",
       "      <td>0</td>\n",
       "      <td>женат / замужем</td>\n",
       "      <td>0</td>\n",
       "      <td>F</td>\n",
       "      <td>сотрудник</td>\n",
       "      <td>0</td>\n",
       "      <td>187863.237306</td>\n",
       "      <td>строительство собственной недвижимости</td>\n",
       "    </tr>\n",
       "    <tr>\n",
       "      <td>29</td>\n",
       "      <td>0</td>\n",
       "      <td>NaN</td>\n",
       "      <td>63</td>\n",
       "      <td>среднее</td>\n",
       "      <td>1</td>\n",
       "      <td>Не женат / не замужем</td>\n",
       "      <td>4</td>\n",
       "      <td>F</td>\n",
       "      <td>пенсионер</td>\n",
       "      <td>0</td>\n",
       "      <td>NaN</td>\n",
       "      <td>строительство жилой недвижимости</td>\n",
       "    </tr>\n",
       "  </tbody>\n",
       "</table>\n",
       "</div>"
      ],
      "text/plain": [
       "    children  days_employed  dob_years            education  education_id  \\\n",
       "0          1   -8437.673028         42               высшее             0   \n",
       "1          1   -4024.803754         36              среднее             1   \n",
       "2          0   -5623.422610         33              Среднее             1   \n",
       "3          3   -4124.747207         32              среднее             1   \n",
       "4          0  340266.072047         53              среднее             1   \n",
       "5          0    -926.185831         27               высшее             0   \n",
       "6          0   -2879.202052         43               высшее             0   \n",
       "7          0    -152.779569         50              СРЕДНЕЕ             1   \n",
       "8          2   -6929.865299         35               ВЫСШЕЕ             0   \n",
       "9          0   -2188.756445         41              среднее             1   \n",
       "10         2   -4171.483647         36               высшее             0   \n",
       "11         0    -792.701887         40              среднее             1   \n",
       "12         0            NaN         65              среднее             1   \n",
       "13         0   -1846.641941         54  неоконченное высшее             2   \n",
       "14         0   -1844.956182         56               высшее             0   \n",
       "15         1    -972.364419         26              среднее             1   \n",
       "16         0   -1719.934226         35              среднее             1   \n",
       "17         0   -2369.999720         33               высшее             0   \n",
       "18         0  400281.136913         53              среднее             1   \n",
       "19         0  -10038.818549         48              СРЕДНЕЕ             1   \n",
       "20         1   -1311.604166         36              среднее             1   \n",
       "21         1    -253.685166         33              среднее             1   \n",
       "22         1   -1766.644138         24              среднее             1   \n",
       "23         0    -272.981385         21               высшее             0   \n",
       "24         1  338551.952911         57              среднее             1   \n",
       "25         0  363548.489348         67              среднее             1   \n",
       "26         0            NaN         41              среднее             1   \n",
       "27         0    -529.191635         28               высшее             0   \n",
       "28         1    -717.274324         26               высшее             0   \n",
       "29         0            NaN         63              среднее             1   \n",
       "\n",
       "            family_status  family_status_id gender  income_type  debt  \\\n",
       "0         женат / замужем                 0      F    сотрудник     0   \n",
       "1         женат / замужем                 0      F    сотрудник     0   \n",
       "2         женат / замужем                 0      M    сотрудник     0   \n",
       "3         женат / замужем                 0      M    сотрудник     0   \n",
       "4        гражданский брак                 1      F    пенсионер     0   \n",
       "5        гражданский брак                 1      M    компаньон     0   \n",
       "6         женат / замужем                 0      F    компаньон     0   \n",
       "7         женат / замужем                 0      M    сотрудник     0   \n",
       "8        гражданский брак                 1      F    сотрудник     0   \n",
       "9         женат / замужем                 0      M    сотрудник     0   \n",
       "10        женат / замужем                 0      M    компаньон     0   \n",
       "11        женат / замужем                 0      F    сотрудник     0   \n",
       "12       гражданский брак                 1      M    пенсионер     0   \n",
       "13        женат / замужем                 0      F    сотрудник     0   \n",
       "14       гражданский брак                 1      F    компаньон     1   \n",
       "15        женат / замужем                 0      F    сотрудник     0   \n",
       "16        женат / замужем                 0      F    сотрудник     0   \n",
       "17       гражданский брак                 1      M    сотрудник     0   \n",
       "18         вдовец / вдова                 2      F    пенсионер     0   \n",
       "19              в разводе                 3      F    сотрудник     0   \n",
       "20        женат / замужем                 0      M    сотрудник     0   \n",
       "21       гражданский брак                 1      F    сотрудник     0   \n",
       "22       гражданский брак                 1      F    сотрудник     0   \n",
       "23       гражданский брак                 1      M    сотрудник     0   \n",
       "24  Не женат / не замужем                 4      F    пенсионер     0   \n",
       "25        женат / замужем                 0      M    пенсионер     0   \n",
       "26        женат / замужем                 0      M  госслужащий     0   \n",
       "27        женат / замужем                 0      M    сотрудник     0   \n",
       "28        женат / замужем                 0      F    сотрудник     0   \n",
       "29  Не женат / не замужем                 4      F    пенсионер     0   \n",
       "\n",
       "     total_income                                 purpose  \n",
       "0   253875.639453                           покупка жилья  \n",
       "1   112080.014102                 приобретение автомобиля  \n",
       "2   145885.952297                           покупка жилья  \n",
       "3   267628.550329              дополнительное образование  \n",
       "4   158616.077870                         сыграть свадьбу  \n",
       "5   255763.565419                           покупка жилья  \n",
       "6   240525.971920                       операции с жильем  \n",
       "7   135823.934197                             образование  \n",
       "8    95856.832424                   на проведение свадьбы  \n",
       "9   144425.938277                 покупка жилья для семьи  \n",
       "10  113943.491460                    покупка недвижимости  \n",
       "11   77069.234271       покупка коммерческой недвижимости  \n",
       "12            NaN                         сыграть свадьбу  \n",
       "13  130458.228857                 приобретение автомобиля  \n",
       "14  165127.911772              покупка жилой недвижимости  \n",
       "15  116820.904450  строительство собственной недвижимости  \n",
       "16  289202.704229                            недвижимость  \n",
       "17   90410.586745              строительство недвижимости  \n",
       "18   56823.777243      на покупку подержанного автомобиля  \n",
       "19  242831.107982            на покупку своего автомобиля  \n",
       "20  209552.644578                            недвижимость  \n",
       "21  131812.203909                 приобретение автомобиля  \n",
       "22  149681.140731      на покупку подержанного автомобиля  \n",
       "23  128265.720871                         сыграть свадьбу  \n",
       "24  290547.235997   операции с коммерческой недвижимостью  \n",
       "25   55112.757732                    покупка недвижимости  \n",
       "26            NaN                             образование  \n",
       "27  308848.983691  строительство собственной недвижимости  \n",
       "28  187863.237306  строительство собственной недвижимости  \n",
       "29            NaN        строительство жилой недвижимости  "
      ]
     },
     "execution_count": 1,
     "metadata": {},
     "output_type": "execute_result"
    }
   ],
   "source": [
    "import pandas as pd\n",
    "import numpy as np\n",
    "root_df = pd.read_csv('/datasets/data.csv')\n",
    "root_df.head(30)"
   ]
  },
  {
   "cell_type": "code",
   "execution_count": 2,
   "metadata": {},
   "outputs": [
    {
     "name": "stdout",
     "output_type": "stream",
     "text": [
      "<class 'pandas.core.frame.DataFrame'>\n",
      "RangeIndex: 21525 entries, 0 to 21524\n",
      "Data columns (total 12 columns):\n",
      "children            21525 non-null int64\n",
      "days_employed       19351 non-null float64\n",
      "dob_years           21525 non-null int64\n",
      "education           21525 non-null object\n",
      "education_id        21525 non-null int64\n",
      "family_status       21525 non-null object\n",
      "family_status_id    21525 non-null int64\n",
      "gender              21525 non-null object\n",
      "income_type         21525 non-null object\n",
      "debt                21525 non-null int64\n",
      "total_income        19351 non-null float64\n",
      "purpose             21525 non-null object\n",
      "dtypes: float64(2), int64(5), object(5)\n",
      "memory usage: 2.0+ MB\n"
     ]
    }
   ],
   "source": [
    "root_df.info()"
   ]
  },
  {
   "cell_type": "code",
   "execution_count": 3,
   "metadata": {},
   "outputs": [
    {
     "data": {
      "text/plain": [
       "Index(['children', 'days_employed', 'dob_years', 'education', 'education_id',\n",
       "       'family_status', 'family_status_id', 'gender', 'income_type', 'debt',\n",
       "       'total_income', 'purpose'],\n",
       "      dtype='object')"
      ]
     },
     "execution_count": 3,
     "metadata": {},
     "output_type": "execute_result"
    }
   ],
   "source": [
    "root_df.columns"
   ]
  },
  {
   "cell_type": "markdown",
   "metadata": {},
   "source": [
    "### Вывод"
   ]
  },
  {
   "cell_type": "markdown",
   "metadata": {},
   "source": [
    "Датасет изучен, получена информация о типе и количестве и типах данных, содержащихся в колонках."
   ]
  },
  {
   "cell_type": "markdown",
   "metadata": {},
   "source": [
    "### Шаг 2. Предобработка данных"
   ]
  },
  {
   "cell_type": "markdown",
   "metadata": {},
   "source": [
    "### Обработка пропусков"
   ]
  },
  {
   "cell_type": "markdown",
   "metadata": {},
   "source": [
    "#### Поиск null и nan "
   ]
  },
  {
   "cell_type": "code",
   "execution_count": 4,
   "metadata": {},
   "outputs": [
    {
     "data": {
      "text/plain": [
       "children               0\n",
       "days_employed       2174\n",
       "dob_years              0\n",
       "education              0\n",
       "education_id           0\n",
       "family_status          0\n",
       "family_status_id       0\n",
       "gender                 0\n",
       "income_type            0\n",
       "debt                   0\n",
       "total_income        2174\n",
       "purpose                0\n",
       "dtype: int64"
      ]
     },
     "execution_count": 4,
     "metadata": {},
     "output_type": "execute_result"
    }
   ],
   "source": [
    "root_df.isnull().sum()"
   ]
  },
  {
   "cell_type": "code",
   "execution_count": 5,
   "metadata": {},
   "outputs": [
    {
     "data": {
      "text/plain": [
       "children               0\n",
       "days_employed       2174\n",
       "dob_years              0\n",
       "education              0\n",
       "education_id           0\n",
       "family_status          0\n",
       "family_status_id       0\n",
       "gender                 0\n",
       "income_type            0\n",
       "debt                   0\n",
       "total_income        2174\n",
       "purpose                0\n",
       "dtype: int64"
      ]
     },
     "execution_count": 5,
     "metadata": {},
     "output_type": "execute_result"
    }
   ],
   "source": [
    "root_df.isna().sum()"
   ]
  },
  {
   "cell_type": "markdown",
   "metadata": {},
   "source": [
    "#### Поиск аномалий в столбце children\n",
    "Идея пришла после того, как на группировке увидел категорию 20 детей, технически это возможно, но нет ни одной семьи в которой было бы больше 5, но меньше 20 детей, так что это скорее ошибка сборка данных. Возможно что при записи в датасет неверно прошла оперция с типом данных и из 2.0 получилось 20. В связи с этим предположением заменим 20 на 2."
   ]
  },
  {
   "cell_type": "markdown",
   "metadata": {},
   "source": [
    "<div class=\"alert alert-success\">\n",
    "<h2> Комментарии от ревьюера №1</h2>\n",
    "    \n",
    "Логика супер\n",
    "</div>"
   ]
  },
  {
   "cell_type": "code",
   "execution_count": 6,
   "metadata": {},
   "outputs": [
    {
     "data": {
      "text/plain": [
       " 0     14149\n",
       " 1      4818\n",
       " 2      2055\n",
       " 3       330\n",
       " 20       76\n",
       "-1        47\n",
       " 4        41\n",
       " 5         9\n",
       "Name: children, dtype: int64"
      ]
     },
     "execution_count": 6,
     "metadata": {},
     "output_type": "execute_result"
    }
   ],
   "source": [
    "root_df['children'].value_counts()"
   ]
  },
  {
   "cell_type": "code",
   "execution_count": 7,
   "metadata": {},
   "outputs": [],
   "source": [
    "root_df['children'] = root_df['children'].replace(20,2)"
   ]
  },
  {
   "cell_type": "markdown",
   "metadata": {},
   "source": [
    "#### Поиск негативных значений"
   ]
  },
  {
   "cell_type": "code",
   "execution_count": 8,
   "metadata": {},
   "outputs": [
    {
     "data": {
      "text/plain": [
       "0"
      ]
     },
     "execution_count": 8,
     "metadata": {},
     "output_type": "execute_result"
    }
   ],
   "source": [
    "#Проверка наличия отрицательных значений total_income\n",
    "root_df[root_df['total_income'] < 0]['total_income'].count()"
   ]
  },
  {
   "cell_type": "code",
   "execution_count": 9,
   "metadata": {},
   "outputs": [
    {
     "data": {
      "text/plain": [
       "15906"
      ]
     },
     "execution_count": 9,
     "metadata": {},
     "output_type": "execute_result"
    }
   ],
   "source": [
    "root_df[root_df['days_employed'] < 0]['days_employed'].count()"
   ]
  },
  {
   "cell_type": "code",
   "execution_count": 10,
   "metadata": {},
   "outputs": [
    {
     "data": {
      "text/plain": [
       "47"
      ]
     },
     "execution_count": 10,
     "metadata": {},
     "output_type": "execute_result"
    }
   ],
   "source": [
    "root_df[root_df['children'] < 0]['children'].count()"
   ]
  },
  {
   "cell_type": "code",
   "execution_count": 11,
   "metadata": {},
   "outputs": [],
   "source": [
    "def days_employed_to_postive(row):\n",
    "    return abs(row['days_employed'])"
   ]
  },
  {
   "cell_type": "code",
   "execution_count": 12,
   "metadata": {},
   "outputs": [],
   "source": [
    "root_df['days_employed'] = root_df.apply(days_employed_to_postive, axis=1)"
   ]
  },
  {
   "cell_type": "code",
   "execution_count": 13,
   "metadata": {},
   "outputs": [],
   "source": [
    "def children_to_postive(row):\n",
    "    return abs(row['children'])"
   ]
  },
  {
   "cell_type": "code",
   "execution_count": 14,
   "metadata": {},
   "outputs": [],
   "source": [
    "root_df['children'] = root_df.apply(children_to_postive, axis=1)"
   ]
  },
  {
   "cell_type": "markdown",
   "metadata": {},
   "source": [
    "#### Решение проблемы с часами вместо дней "
   ]
  },
  {
   "cell_type": "markdown",
   "metadata": {},
   "source": [
    "<div class=\"alert alert-block alert-info\">\n",
    "<b>КОММЕНТАРИЙ ОТ УЧЕНИКА:</b>\n",
    "    Первое, что нужно сделать - оценить, когда нужно менять значение с часов на дни, а когда оставлять как есть. Для этого определим пороговое значение максимально возможного стажа в днях. \n",
    "Возраст в днях в среднем всегда меньше, чем стаж в часах, но при этом всегда больше, чем стаж в днях. Если это условие выполняется, то стаж указан в часах.\n",
    "</div>"
   ]
  },
  {
   "cell_type": "code",
   "execution_count": 15,
   "metadata": {},
   "outputs": [],
   "source": [
    "def convert_days_employed(row):\n",
    "    \n",
    "    threshold = (row['dob_years']) * 365\n",
    "    days_employed = row['days_employed']\n",
    "    \n",
    "    #пропуски мы возвращаем на место, т.к заполнить их без медианы нельзя.\n",
    "    if days_employed == np.NaN:\n",
    "        return days_employed\n",
    "    \n",
    "    #Если стаж больше, чем возраст в днях, то стаж указан в часах и мы делим его на 24\n",
    "    elif days_employed > threshold:\n",
    "        return days_employed/24\n",
    "    \n",
    "    #В остальных случаях стаж указан в днях и мы возвращаем его на место\n",
    "    else:\n",
    "        return days_employed"
   ]
  },
  {
   "cell_type": "code",
   "execution_count": 16,
   "metadata": {},
   "outputs": [],
   "source": [
    "root_df['days_employed'] = root_df.apply(convert_days_employed, axis=1)"
   ]
  },
  {
   "cell_type": "markdown",
   "metadata": {},
   "source": [
    "#### Рассчет медианы по типу занятости для подстановки вместо nan и null "
   ]
  },
  {
   "cell_type": "code",
   "execution_count": 17,
   "metadata": {},
   "outputs": [
    {
     "data": {
      "text/html": [
       "<div>\n",
       "<style scoped>\n",
       "    .dataframe tbody tr th:only-of-type {\n",
       "        vertical-align: middle;\n",
       "    }\n",
       "\n",
       "    .dataframe tbody tr th {\n",
       "        vertical-align: top;\n",
       "    }\n",
       "\n",
       "    .dataframe thead th {\n",
       "        text-align: right;\n",
       "    }\n",
       "</style>\n",
       "<table border=\"1\" class=\"dataframe\">\n",
       "  <thead>\n",
       "    <tr style=\"text-align: right;\">\n",
       "      <th></th>\n",
       "      <th>children</th>\n",
       "      <th>days_employed</th>\n",
       "      <th>dob_years</th>\n",
       "      <th>education_id</th>\n",
       "      <th>family_status_id</th>\n",
       "      <th>debt</th>\n",
       "      <th>total_income</th>\n",
       "    </tr>\n",
       "    <tr>\n",
       "      <th>income_type</th>\n",
       "      <th></th>\n",
       "      <th></th>\n",
       "      <th></th>\n",
       "      <th></th>\n",
       "      <th></th>\n",
       "      <th></th>\n",
       "      <th></th>\n",
       "    </tr>\n",
       "  </thead>\n",
       "  <tbody>\n",
       "    <tr>\n",
       "      <td>безработный</td>\n",
       "      <td>0.5</td>\n",
       "      <td>15267.235531</td>\n",
       "      <td>38.0</td>\n",
       "      <td>0.5</td>\n",
       "      <td>0.5</td>\n",
       "      <td>0.5</td>\n",
       "      <td>131339.751676</td>\n",
       "    </tr>\n",
       "    <tr>\n",
       "      <td>в декрете</td>\n",
       "      <td>2.0</td>\n",
       "      <td>3296.759962</td>\n",
       "      <td>39.0</td>\n",
       "      <td>1.0</td>\n",
       "      <td>0.0</td>\n",
       "      <td>1.0</td>\n",
       "      <td>53829.130729</td>\n",
       "    </tr>\n",
       "    <tr>\n",
       "      <td>госслужащий</td>\n",
       "      <td>0.0</td>\n",
       "      <td>2666.912661</td>\n",
       "      <td>40.0</td>\n",
       "      <td>1.0</td>\n",
       "      <td>0.0</td>\n",
       "      <td>0.0</td>\n",
       "      <td>150447.935283</td>\n",
       "    </tr>\n",
       "    <tr>\n",
       "      <td>компаньон</td>\n",
       "      <td>0.0</td>\n",
       "      <td>1531.798930</td>\n",
       "      <td>39.0</td>\n",
       "      <td>1.0</td>\n",
       "      <td>0.0</td>\n",
       "      <td>0.0</td>\n",
       "      <td>172357.950966</td>\n",
       "    </tr>\n",
       "    <tr>\n",
       "      <td>пенсионер</td>\n",
       "      <td>0.0</td>\n",
       "      <td>15217.221094</td>\n",
       "      <td>60.0</td>\n",
       "      <td>1.0</td>\n",
       "      <td>0.0</td>\n",
       "      <td>0.0</td>\n",
       "      <td>118514.486412</td>\n",
       "    </tr>\n",
       "    <tr>\n",
       "      <td>предприниматель</td>\n",
       "      <td>0.0</td>\n",
       "      <td>520.848083</td>\n",
       "      <td>42.5</td>\n",
       "      <td>0.0</td>\n",
       "      <td>0.5</td>\n",
       "      <td>0.0</td>\n",
       "      <td>499163.144947</td>\n",
       "    </tr>\n",
       "    <tr>\n",
       "      <td>сотрудник</td>\n",
       "      <td>0.0</td>\n",
       "      <td>1568.388775</td>\n",
       "      <td>39.0</td>\n",
       "      <td>1.0</td>\n",
       "      <td>0.0</td>\n",
       "      <td>0.0</td>\n",
       "      <td>142594.396847</td>\n",
       "    </tr>\n",
       "    <tr>\n",
       "      <td>студент</td>\n",
       "      <td>0.0</td>\n",
       "      <td>578.751554</td>\n",
       "      <td>22.0</td>\n",
       "      <td>0.0</td>\n",
       "      <td>4.0</td>\n",
       "      <td>0.0</td>\n",
       "      <td>98201.625314</td>\n",
       "    </tr>\n",
       "  </tbody>\n",
       "</table>\n",
       "</div>"
      ],
      "text/plain": [
       "                 children  days_employed  dob_years  education_id  \\\n",
       "income_type                                                         \n",
       "безработный           0.5   15267.235531       38.0           0.5   \n",
       "в декрете             2.0    3296.759962       39.0           1.0   \n",
       "госслужащий           0.0    2666.912661       40.0           1.0   \n",
       "компаньон             0.0    1531.798930       39.0           1.0   \n",
       "пенсионер             0.0   15217.221094       60.0           1.0   \n",
       "предприниматель       0.0     520.848083       42.5           0.0   \n",
       "сотрудник             0.0    1568.388775       39.0           1.0   \n",
       "студент               0.0     578.751554       22.0           0.0   \n",
       "\n",
       "                 family_status_id  debt   total_income  \n",
       "income_type                                             \n",
       "безработный                   0.5   0.5  131339.751676  \n",
       "в декрете                     0.0   1.0   53829.130729  \n",
       "госслужащий                   0.0   0.0  150447.935283  \n",
       "компаньон                     0.0   0.0  172357.950966  \n",
       "пенсионер                     0.0   0.0  118514.486412  \n",
       "предприниматель               0.5   0.0  499163.144947  \n",
       "сотрудник                     0.0   0.0  142594.396847  \n",
       "студент                       4.0   0.0   98201.625314  "
      ]
     },
     "execution_count": 17,
     "metadata": {},
     "output_type": "execute_result"
    }
   ],
   "source": [
    "#Группировка по типу занятости и рассчет медианы в каждой группе.\n",
    "groped_by_income_type_df = root_df.groupby('income_type').median()\n",
    "groped_by_income_type_df"
   ]
  },
  {
   "cell_type": "markdown",
   "metadata": {},
   "source": [
    "<div class=\"alert alert-block alert-info\">\n",
    "<b>КОММЕНТАРИЙ ОТ УЧЕНИКА:</b>\n",
    "    Медиана пенсионеров все-равно получилась довольно низкой\n",
    "</div>"
   ]
  },
  {
   "cell_type": "markdown",
   "metadata": {},
   "source": [
    "<div class=\"alert alert-success\">\n",
    "<h2> Комментарии от ревьюера №1</h2>\n",
    "    \n",
    "Супер, молодец, граммотный подход\n",
    "</div>"
   ]
  },
  {
   "cell_type": "code",
   "execution_count": 18,
   "metadata": {},
   "outputs": [
    {
     "data": {
      "text/plain": [
       "{'безработный': 131339.7516762103,\n",
       " 'в декрете': 53829.13072905995,\n",
       " 'госслужащий': 150447.9352830068,\n",
       " 'компаньон': 172357.95096577113,\n",
       " 'пенсионер': 118514.48641164352,\n",
       " 'предприниматель': 499163.1449470857,\n",
       " 'сотрудник': 142594.39684740017,\n",
       " 'студент': 98201.62531401133}"
      ]
     },
     "execution_count": 18,
     "metadata": {},
     "output_type": "execute_result"
    }
   ],
   "source": [
    "total_income_by_type = {}\n",
    "\n",
    "for row in groped_by_income_type_df.iterrows():\n",
    "    \n",
    "    total_income_by_type[row[0]] = row[1][6]\n",
    "    \n",
    "total_income_by_type"
   ]
  },
  {
   "cell_type": "code",
   "execution_count": 19,
   "metadata": {},
   "outputs": [],
   "source": [
    "def fill_na_by_median(row):\n",
    "    \n",
    "    #Если параметр days_employed = null, заменяем его на соответсующую медиану из словаря total_income_by_type\n",
    "    if pd.isna(row['total_income']):\n",
    "        return total_income_by_type[row['income_type']]\n",
    "    \n",
    "    #В остальных случаях возвращаем существующее значение\n",
    "    else:\n",
    "        return row['total_income']"
   ]
  },
  {
   "cell_type": "code",
   "execution_count": 20,
   "metadata": {},
   "outputs": [],
   "source": [
    "root_df['total_income'] = root_df.apply(fill_na_by_median, axis=1)"
   ]
  },
  {
   "cell_type": "markdown",
   "metadata": {},
   "source": [
    "<div class=\"alert alert-warning\">\n",
    "<h2> Комментарии от ревьюера №1</h2>\n",
    "    \n",
    "Ну тут ты по моему уже усложняешь, можно было сделать код и без словаря\n",
    "</div>"
   ]
  },
  {
   "cell_type": "markdown",
   "metadata": {},
   "source": [
    "<div class=\"alert alert-block alert-info\">\n",
    "<b>КОММЕНТАРИЙ ОТ УЧЕНИКА:</b>Только что понял, что можно было прям из фрейма с медианами брать)\n",
    "</div>"
   ]
  },
  {
   "cell_type": "markdown",
   "metadata": {},
   "source": [
    "#### Решение проблемы с часами вместо дней "
   ]
  },
  {
   "cell_type": "markdown",
   "metadata": {},
   "source": [
    "Первое, что нужно сделать - оценить, когда нужно менять значение с часов на дни, а когда оставлять как есть. Для этого определим пороговое значение максимально возможного стажа в днях. "
   ]
  },
  {
   "cell_type": "code",
   "execution_count": 21,
   "metadata": {},
   "outputs": [
    {
     "data": {
      "text/plain": [
       "{'безработный': 15267.235531008522,\n",
       " 'в декрете': 3296.7599620220594,\n",
       " 'госслужащий': 2666.912661183607,\n",
       " 'компаньон': 1531.7989297242334,\n",
       " 'пенсионер': 15217.221094405466,\n",
       " 'предприниматель': 520.8480834953765,\n",
       " 'сотрудник': 1568.3887753757917,\n",
       " 'студент': 578.7515535382181}"
      ]
     },
     "execution_count": 21,
     "metadata": {},
     "output_type": "execute_result"
    }
   ],
   "source": [
    "# Получим словарь в котором ключами является группа, а\n",
    "# значениями медиана по столбцу days_employed для этой группы\n",
    "\n",
    "total_days_employed_by_type = {}\n",
    "\n",
    "for row in groped_by_income_type_df.iterrows():\n",
    "    total_days_employed_by_type[row[0]] = row[1][1]\n",
    "\n",
    "total_days_employed_by_type"
   ]
  },
  {
   "cell_type": "markdown",
   "metadata": {},
   "source": [
    "<div class=\"alert alert-danger\">\n",
    "<h2> Комментарии от ревьюера №1</h2>\n",
    "    \n",
    "Обрати внимание какие огромные значения у тебя получились для безработного и пенсионера\n",
    "    \n",
    "Там проблема в том, что с определенного возраста стаж учитывается в часах, определи с какого и приведи значения в норму\n",
    "</div>"
   ]
  },
  {
   "cell_type": "markdown",
   "metadata": {},
   "source": [
    "<div class=\"alert alert-block alert-info\">\n",
    "<b>КОММЕНТАРИЙ ОТ УЧЕНИКА:</b>\n",
    "    Про возраст - не уверен, есть записи, в которых возраст 50-52 и указано в часах, а есть где 55+ и указано в днях. Поищу другой критерий.\n",
    "</div>"
   ]
  },
  {
   "cell_type": "code",
   "execution_count": 22,
   "metadata": {},
   "outputs": [],
   "source": [
    "def fill_na_by_median(row):\n",
    "    \n",
    "    #Если параметр days_employed = null, заменяем его на соответсующую медиану из словаря total_income_by_type\n",
    "    if pd.isna(row['days_employed']):\n",
    "        return total_days_employed_by_type[row['income_type']]\n",
    "    \n",
    "    #В остальных случаях возвращаем существующее значение\n",
    "    else:\n",
    "        return row['days_employed']"
   ]
  },
  {
   "cell_type": "code",
   "execution_count": 23,
   "metadata": {},
   "outputs": [],
   "source": [
    "root_df['days_employed'] = root_df.apply(fill_na_by_median, axis=1)"
   ]
  },
  {
   "cell_type": "markdown",
   "metadata": {},
   "source": [
    "#### Проверка на наличие пропусков"
   ]
  },
  {
   "cell_type": "code",
   "execution_count": 24,
   "metadata": {},
   "outputs": [
    {
     "name": "stdout",
     "output_type": "stream",
     "text": [
      "<class 'pandas.core.frame.DataFrame'>\n",
      "RangeIndex: 21525 entries, 0 to 21524\n",
      "Data columns (total 12 columns):\n",
      "children            21525 non-null int64\n",
      "days_employed       21525 non-null float64\n",
      "dob_years           21525 non-null int64\n",
      "education           21525 non-null object\n",
      "education_id        21525 non-null int64\n",
      "family_status       21525 non-null object\n",
      "family_status_id    21525 non-null int64\n",
      "gender              21525 non-null object\n",
      "income_type         21525 non-null object\n",
      "debt                21525 non-null int64\n",
      "total_income        21525 non-null float64\n",
      "purpose             21525 non-null object\n",
      "dtypes: float64(2), int64(5), object(5)\n",
      "memory usage: 2.0+ MB\n"
     ]
    }
   ],
   "source": [
    "root_df.info()"
   ]
  },
  {
   "cell_type": "markdown",
   "metadata": {},
   "source": [
    "### Вывод"
   ]
  },
  {
   "cell_type": "markdown",
   "metadata": {},
   "source": [
    "В столбцах ***days_employed*** и ***total_income*** есть пропущенные значения.\n",
    "1. Первой причниой отсутсвия этих величин может быть связано с тем, что заемщик не устроен официально и не предоставил документы банку. \n",
    "2. Второй причиной может являться нарушение в бизнес-процессе, при котором часть данных не попадает в выборку.\n",
    "\n",
    "Так-как вероятность того, что банк выдаст кредит человеку без подтвержденного дохода крайне низка, то вторая причина является более подходящей.  \n",
    "\n",
    "Пропущенные значения можно заменить средним, медианой или модой.\n",
    "1. **Мода** - не подходит, так-как величина з.п. непрерывная, что ведет к очень большому разнообразию.\n",
    "2. **Среднее** - очень чувствительно к разборосу, что может повлечь его смещение. \n",
    "3. **Медиана** - менее остальных метрик чувствительна к разбросу и разнообразию величины\n",
    "\n",
    "Медиану необходимо подобрать по группе, например, по типу занятности, чтобы получить более реальные значения пропусков.\n",
    "\n",
    "Пропуски заполнены при помощи рассчета медианы для каждой группы и подставки вместо NaN/Null по соответсвию группе."
   ]
  },
  {
   "cell_type": "markdown",
   "metadata": {},
   "source": [
    "### Замена типа данных"
   ]
  },
  {
   "cell_type": "code",
   "execution_count": 25,
   "metadata": {},
   "outputs": [],
   "source": [
    "root_df['days_employed'] = root_df['days_employed'].astype('int')"
   ]
  },
  {
   "cell_type": "code",
   "execution_count": 26,
   "metadata": {},
   "outputs": [],
   "source": [
    "root_df['total_income'] = root_df['total_income'].astype('int')"
   ]
  },
  {
   "cell_type": "code",
   "execution_count": 27,
   "metadata": {},
   "outputs": [
    {
     "name": "stdout",
     "output_type": "stream",
     "text": [
      "<class 'pandas.core.frame.DataFrame'>\n",
      "RangeIndex: 21525 entries, 0 to 21524\n",
      "Data columns (total 12 columns):\n",
      "children            21525 non-null int64\n",
      "days_employed       21525 non-null int64\n",
      "dob_years           21525 non-null int64\n",
      "education           21525 non-null object\n",
      "education_id        21525 non-null int64\n",
      "family_status       21525 non-null object\n",
      "family_status_id    21525 non-null int64\n",
      "gender              21525 non-null object\n",
      "income_type         21525 non-null object\n",
      "debt                21525 non-null int64\n",
      "total_income        21525 non-null int64\n",
      "purpose             21525 non-null object\n",
      "dtypes: int64(7), object(5)\n",
      "memory usage: 2.0+ MB\n"
     ]
    }
   ],
   "source": [
    "root_df.info()"
   ]
  },
  {
   "cell_type": "markdown",
   "metadata": {},
   "source": [
    "### Вывод"
   ]
  },
  {
   "cell_type": "markdown",
   "metadata": {},
   "source": [
    "Произведена замена значений в колонках *days_employed* и *total_income* при помощи метода *astype()*\n",
    "метод замены обусловлен тем, что он короче в написании по сравнению с pd.to_numeric(), а нам не требуется обрабатывать ошибки в данной задаче, т.к. все числа в столбцах имеют тип float и могут быть преобразованы без ошибок."
   ]
  },
  {
   "cell_type": "markdown",
   "metadata": {},
   "source": [
    "### Обработка дубликатов"
   ]
  },
  {
   "cell_type": "markdown",
   "metadata": {},
   "source": [
    "#### Приведение строк в столбцах к нижнему регистру"
   ]
  },
  {
   "cell_type": "code",
   "execution_count": 28,
   "metadata": {},
   "outputs": [],
   "source": [
    "root_df['education'] = root_df['education'].str.lower()"
   ]
  },
  {
   "cell_type": "code",
   "execution_count": 29,
   "metadata": {},
   "outputs": [],
   "source": [
    "root_df['income_type'] = root_df['income_type'].str.lower()"
   ]
  },
  {
   "cell_type": "code",
   "execution_count": 30,
   "metadata": {},
   "outputs": [],
   "source": [
    "root_df['family_status'] = root_df['family_status'].str.lower()"
   ]
  },
  {
   "cell_type": "markdown",
   "metadata": {},
   "source": [
    "#### Поиск и удаление полных дубликатов"
   ]
  },
  {
   "cell_type": "code",
   "execution_count": 31,
   "metadata": {},
   "outputs": [
    {
     "data": {
      "text/plain": [
       "False    21454\n",
       "True        71\n",
       "dtype: int64"
      ]
     },
     "execution_count": 31,
     "metadata": {},
     "output_type": "execute_result"
    }
   ],
   "source": [
    "root_df.duplicated().value_counts()"
   ]
  },
  {
   "cell_type": "code",
   "execution_count": 32,
   "metadata": {},
   "outputs": [],
   "source": [
    "root_df = root_df.drop_duplicates()"
   ]
  },
  {
   "cell_type": "markdown",
   "metadata": {},
   "source": [
    "### Вывод"
   ]
  },
  {
   "cell_type": "markdown",
   "metadata": {},
   "source": [
    "После приведения всех строк к нижнему регистру обнаружено 71 **полных** дубликата. Причиной их возникновения может быть только ошибка сбора данных, так как полное совпадение 12 параметров - практически невозможно. Однако, есть вероятность появление дубликатов в результате замены пропущенных значений на групповые медианы. Использованы методы duplicated() и drop_duplicates() для удаления полных дубликатов, по умолачнию (без передачи параметров) метод находит полные дубликаты (совпадение 12 параметров) и оставляет первый найденный. "
   ]
  },
  {
   "cell_type": "markdown",
   "metadata": {},
   "source": [
    "### Лемматизация"
   ]
  },
  {
   "cell_type": "code",
   "execution_count": 33,
   "metadata": {},
   "outputs": [],
   "source": [
    "from pymystem3 import Mystem\n",
    "stemmer = Mystem()"
   ]
  },
  {
   "cell_type": "code",
   "execution_count": 34,
   "metadata": {},
   "outputs": [
    {
     "data": {
      "text/html": [
       "<div>\n",
       "<style scoped>\n",
       "    .dataframe tbody tr th:only-of-type {\n",
       "        vertical-align: middle;\n",
       "    }\n",
       "\n",
       "    .dataframe tbody tr th {\n",
       "        vertical-align: top;\n",
       "    }\n",
       "\n",
       "    .dataframe thead th {\n",
       "        text-align: right;\n",
       "    }\n",
       "</style>\n",
       "<table border=\"1\" class=\"dataframe\">\n",
       "  <thead>\n",
       "    <tr style=\"text-align: right;\">\n",
       "      <th></th>\n",
       "      <th>children</th>\n",
       "      <th>days_employed</th>\n",
       "      <th>dob_years</th>\n",
       "      <th>education_id</th>\n",
       "      <th>family_status_id</th>\n",
       "      <th>debt</th>\n",
       "      <th>total_income</th>\n",
       "    </tr>\n",
       "    <tr>\n",
       "      <th>purpose</th>\n",
       "      <th></th>\n",
       "      <th></th>\n",
       "      <th></th>\n",
       "      <th></th>\n",
       "      <th></th>\n",
       "      <th></th>\n",
       "      <th></th>\n",
       "    </tr>\n",
       "  </thead>\n",
       "  <tbody>\n",
       "    <tr>\n",
       "      <td>автомобили</td>\n",
       "      <td>218</td>\n",
       "      <td>2335206</td>\n",
       "      <td>20962</td>\n",
       "      <td>366</td>\n",
       "      <td>522</td>\n",
       "      <td>44</td>\n",
       "      <td>80256590</td>\n",
       "    </tr>\n",
       "    <tr>\n",
       "      <td>автомобиль</td>\n",
       "      <td>211</td>\n",
       "      <td>2428665</td>\n",
       "      <td>21575</td>\n",
       "      <td>396</td>\n",
       "      <td>454</td>\n",
       "      <td>42</td>\n",
       "      <td>82748178</td>\n",
       "    </tr>\n",
       "    <tr>\n",
       "      <td>высшее образование</td>\n",
       "      <td>207</td>\n",
       "      <td>2003447</td>\n",
       "      <td>19445</td>\n",
       "      <td>361</td>\n",
       "      <td>425</td>\n",
       "      <td>40</td>\n",
       "      <td>76764226</td>\n",
       "    </tr>\n",
       "    <tr>\n",
       "      <td>дополнительное образование</td>\n",
       "      <td>250</td>\n",
       "      <td>2236942</td>\n",
       "      <td>20282</td>\n",
       "      <td>380</td>\n",
       "      <td>480</td>\n",
       "      <td>38</td>\n",
       "      <td>74411399</td>\n",
       "    </tr>\n",
       "    <tr>\n",
       "      <td>жилье</td>\n",
       "      <td>338</td>\n",
       "      <td>2837369</td>\n",
       "      <td>27334</td>\n",
       "      <td>521</td>\n",
       "      <td>668</td>\n",
       "      <td>46</td>\n",
       "      <td>107737644</td>\n",
       "    </tr>\n",
       "    <tr>\n",
       "      <td>заняться высшим образованием</td>\n",
       "      <td>256</td>\n",
       "      <td>2263137</td>\n",
       "      <td>21426</td>\n",
       "      <td>417</td>\n",
       "      <td>463</td>\n",
       "      <td>43</td>\n",
       "      <td>76614306</td>\n",
       "    </tr>\n",
       "    <tr>\n",
       "      <td>заняться образованием</td>\n",
       "      <td>209</td>\n",
       "      <td>1850288</td>\n",
       "      <td>17835</td>\n",
       "      <td>331</td>\n",
       "      <td>346</td>\n",
       "      <td>39</td>\n",
       "      <td>68305436</td>\n",
       "    </tr>\n",
       "    <tr>\n",
       "      <td>на покупку автомобиля</td>\n",
       "      <td>227</td>\n",
       "      <td>2233578</td>\n",
       "      <td>20423</td>\n",
       "      <td>399</td>\n",
       "      <td>467</td>\n",
       "      <td>44</td>\n",
       "      <td>81138938</td>\n",
       "    </tr>\n",
       "    <tr>\n",
       "      <td>на покупку подержанного автомобиля</td>\n",
       "      <td>231</td>\n",
       "      <td>2245567</td>\n",
       "      <td>21026</td>\n",
       "      <td>391</td>\n",
       "      <td>497</td>\n",
       "      <td>36</td>\n",
       "      <td>77214954</td>\n",
       "    </tr>\n",
       "    <tr>\n",
       "      <td>на покупку своего автомобиля</td>\n",
       "      <td>237</td>\n",
       "      <td>2168077</td>\n",
       "      <td>21554</td>\n",
       "      <td>404</td>\n",
       "      <td>473</td>\n",
       "      <td>46</td>\n",
       "      <td>82474129</td>\n",
       "    </tr>\n",
       "    <tr>\n",
       "      <td>на проведение свадьбы</td>\n",
       "      <td>383</td>\n",
       "      <td>3559694</td>\n",
       "      <td>32840</td>\n",
       "      <td>605</td>\n",
       "      <td>768</td>\n",
       "      <td>64</td>\n",
       "      <td>128441224</td>\n",
       "    </tr>\n",
       "    <tr>\n",
       "      <td>недвижимость</td>\n",
       "      <td>297</td>\n",
       "      <td>2780966</td>\n",
       "      <td>27183</td>\n",
       "      <td>498</td>\n",
       "      <td>640</td>\n",
       "      <td>42</td>\n",
       "      <td>104925233</td>\n",
       "    </tr>\n",
       "    <tr>\n",
       "      <td>образование</td>\n",
       "      <td>205</td>\n",
       "      <td>2143260</td>\n",
       "      <td>19207</td>\n",
       "      <td>353</td>\n",
       "      <td>448</td>\n",
       "      <td>32</td>\n",
       "      <td>72572672</td>\n",
       "    </tr>\n",
       "    <tr>\n",
       "      <td>операции с жильем</td>\n",
       "      <td>307</td>\n",
       "      <td>2884568</td>\n",
       "      <td>28161</td>\n",
       "      <td>535</td>\n",
       "      <td>658</td>\n",
       "      <td>48</td>\n",
       "      <td>112800144</td>\n",
       "    </tr>\n",
       "    <tr>\n",
       "      <td>операции с коммерческой недвижимостью</td>\n",
       "      <td>328</td>\n",
       "      <td>2982384</td>\n",
       "      <td>27858</td>\n",
       "      <td>513</td>\n",
       "      <td>602</td>\n",
       "      <td>52</td>\n",
       "      <td>108756418</td>\n",
       "    </tr>\n",
       "    <tr>\n",
       "      <td>операции с недвижимостью</td>\n",
       "      <td>312</td>\n",
       "      <td>3144077</td>\n",
       "      <td>28936</td>\n",
       "      <td>551</td>\n",
       "      <td>693</td>\n",
       "      <td>55</td>\n",
       "      <td>112734967</td>\n",
       "    </tr>\n",
       "    <tr>\n",
       "      <td>операции со своей недвижимостью</td>\n",
       "      <td>319</td>\n",
       "      <td>2971996</td>\n",
       "      <td>27629</td>\n",
       "      <td>548</td>\n",
       "      <td>600</td>\n",
       "      <td>50</td>\n",
       "      <td>101355929</td>\n",
       "    </tr>\n",
       "    <tr>\n",
       "      <td>покупка жилой недвижимости</td>\n",
       "      <td>295</td>\n",
       "      <td>2545373</td>\n",
       "      <td>26325</td>\n",
       "      <td>487</td>\n",
       "      <td>603</td>\n",
       "      <td>41</td>\n",
       "      <td>102961478</td>\n",
       "    </tr>\n",
       "    <tr>\n",
       "      <td>покупка жилья</td>\n",
       "      <td>318</td>\n",
       "      <td>3018548</td>\n",
       "      <td>27411</td>\n",
       "      <td>530</td>\n",
       "      <td>604</td>\n",
       "      <td>48</td>\n",
       "      <td>107213232</td>\n",
       "    </tr>\n",
       "    <tr>\n",
       "      <td>покупка жилья для сдачи</td>\n",
       "      <td>333</td>\n",
       "      <td>2953582</td>\n",
       "      <td>27757</td>\n",
       "      <td>529</td>\n",
       "      <td>589</td>\n",
       "      <td>52</td>\n",
       "      <td>106989692</td>\n",
       "    </tr>\n",
       "    <tr>\n",
       "      <td>покупка жилья для семьи</td>\n",
       "      <td>295</td>\n",
       "      <td>3048909</td>\n",
       "      <td>28270</td>\n",
       "      <td>520</td>\n",
       "      <td>600</td>\n",
       "      <td>45</td>\n",
       "      <td>104751056</td>\n",
       "    </tr>\n",
       "    <tr>\n",
       "      <td>покупка коммерческой недвижимости</td>\n",
       "      <td>317</td>\n",
       "      <td>3053561</td>\n",
       "      <td>29012</td>\n",
       "      <td>539</td>\n",
       "      <td>691</td>\n",
       "      <td>47</td>\n",
       "      <td>108455831</td>\n",
       "    </tr>\n",
       "    <tr>\n",
       "      <td>покупка недвижимости</td>\n",
       "      <td>289</td>\n",
       "      <td>2863254</td>\n",
       "      <td>26992</td>\n",
       "      <td>498</td>\n",
       "      <td>529</td>\n",
       "      <td>43</td>\n",
       "      <td>106435154</td>\n",
       "    </tr>\n",
       "    <tr>\n",
       "      <td>покупка своего жилья</td>\n",
       "      <td>316</td>\n",
       "      <td>2689384</td>\n",
       "      <td>26723</td>\n",
       "      <td>488</td>\n",
       "      <td>565</td>\n",
       "      <td>34</td>\n",
       "      <td>104800963</td>\n",
       "    </tr>\n",
       "    <tr>\n",
       "      <td>получение высшего образования</td>\n",
       "      <td>184</td>\n",
       "      <td>1865677</td>\n",
       "      <td>18422</td>\n",
       "      <td>356</td>\n",
       "      <td>413</td>\n",
       "      <td>46</td>\n",
       "      <td>70349718</td>\n",
       "    </tr>\n",
       "    <tr>\n",
       "      <td>получение дополнительного образования</td>\n",
       "      <td>217</td>\n",
       "      <td>2157536</td>\n",
       "      <td>19642</td>\n",
       "      <td>367</td>\n",
       "      <td>430</td>\n",
       "      <td>51</td>\n",
       "      <td>69869982</td>\n",
       "    </tr>\n",
       "    <tr>\n",
       "      <td>получение образования</td>\n",
       "      <td>232</td>\n",
       "      <td>1953623</td>\n",
       "      <td>18844</td>\n",
       "      <td>376</td>\n",
       "      <td>413</td>\n",
       "      <td>37</td>\n",
       "      <td>74077680</td>\n",
       "    </tr>\n",
       "    <tr>\n",
       "      <td>приобретение автомобиля</td>\n",
       "      <td>222</td>\n",
       "      <td>2282333</td>\n",
       "      <td>19996</td>\n",
       "      <td>368</td>\n",
       "      <td>471</td>\n",
       "      <td>42</td>\n",
       "      <td>75310928</td>\n",
       "    </tr>\n",
       "    <tr>\n",
       "      <td>профильное образование</td>\n",
       "      <td>192</td>\n",
       "      <td>1953696</td>\n",
       "      <td>19073</td>\n",
       "      <td>382</td>\n",
       "      <td>406</td>\n",
       "      <td>44</td>\n",
       "      <td>69636827</td>\n",
       "    </tr>\n",
       "    <tr>\n",
       "      <td>ремонт жилью</td>\n",
       "      <td>282</td>\n",
       "      <td>2655648</td>\n",
       "      <td>25806</td>\n",
       "      <td>486</td>\n",
       "      <td>608</td>\n",
       "      <td>35</td>\n",
       "      <td>103133504</td>\n",
       "    </tr>\n",
       "    <tr>\n",
       "      <td>свадьба</td>\n",
       "      <td>368</td>\n",
       "      <td>3591470</td>\n",
       "      <td>34299</td>\n",
       "      <td>646</td>\n",
       "      <td>791</td>\n",
       "      <td>64</td>\n",
       "      <td>126743028</td>\n",
       "    </tr>\n",
       "    <tr>\n",
       "      <td>свой автомобиль</td>\n",
       "      <td>247</td>\n",
       "      <td>2049385</td>\n",
       "      <td>20636</td>\n",
       "      <td>410</td>\n",
       "      <td>436</td>\n",
       "      <td>48</td>\n",
       "      <td>76104450</td>\n",
       "    </tr>\n",
       "    <tr>\n",
       "      <td>сделка с автомобилем</td>\n",
       "      <td>212</td>\n",
       "      <td>2132448</td>\n",
       "      <td>19511</td>\n",
       "      <td>406</td>\n",
       "      <td>466</td>\n",
       "      <td>50</td>\n",
       "      <td>74726742</td>\n",
       "    </tr>\n",
       "    <tr>\n",
       "      <td>сделка с подержанным автомобилем</td>\n",
       "      <td>229</td>\n",
       "      <td>2147174</td>\n",
       "      <td>21520</td>\n",
       "      <td>393</td>\n",
       "      <td>475</td>\n",
       "      <td>51</td>\n",
       "      <td>81472001</td>\n",
       "    </tr>\n",
       "    <tr>\n",
       "      <td>строительство жилой недвижимости</td>\n",
       "      <td>275</td>\n",
       "      <td>2934375</td>\n",
       "      <td>26949</td>\n",
       "      <td>530</td>\n",
       "      <td>649</td>\n",
       "      <td>48</td>\n",
       "      <td>103965470</td>\n",
       "    </tr>\n",
       "    <tr>\n",
       "      <td>строительство недвижимости</td>\n",
       "      <td>311</td>\n",
       "      <td>2777477</td>\n",
       "      <td>26968</td>\n",
       "      <td>525</td>\n",
       "      <td>565</td>\n",
       "      <td>54</td>\n",
       "      <td>100897549</td>\n",
       "    </tr>\n",
       "    <tr>\n",
       "      <td>строительство собственной недвижимости</td>\n",
       "      <td>297</td>\n",
       "      <td>2965049</td>\n",
       "      <td>27420</td>\n",
       "      <td>516</td>\n",
       "      <td>621</td>\n",
       "      <td>42</td>\n",
       "      <td>104275242</td>\n",
       "    </tr>\n",
       "    <tr>\n",
       "      <td>сыграть свадьбу</td>\n",
       "      <td>344</td>\n",
       "      <td>3652614</td>\n",
       "      <td>33089</td>\n",
       "      <td>609</td>\n",
       "      <td>765</td>\n",
       "      <td>58</td>\n",
       "      <td>125343190</td>\n",
       "    </tr>\n",
       "  </tbody>\n",
       "</table>\n",
       "</div>"
      ],
      "text/plain": [
       "                                        children  days_employed  dob_years  \\\n",
       "purpose                                                                      \n",
       "автомобили                                   218        2335206      20962   \n",
       "автомобиль                                   211        2428665      21575   \n",
       "высшее образование                           207        2003447      19445   \n",
       "дополнительное образование                   250        2236942      20282   \n",
       "жилье                                        338        2837369      27334   \n",
       "заняться высшим образованием                 256        2263137      21426   \n",
       "заняться образованием                        209        1850288      17835   \n",
       "на покупку автомобиля                        227        2233578      20423   \n",
       "на покупку подержанного автомобиля           231        2245567      21026   \n",
       "на покупку своего автомобиля                 237        2168077      21554   \n",
       "на проведение свадьбы                        383        3559694      32840   \n",
       "недвижимость                                 297        2780966      27183   \n",
       "образование                                  205        2143260      19207   \n",
       "операции с жильем                            307        2884568      28161   \n",
       "операции с коммерческой недвижимостью        328        2982384      27858   \n",
       "операции с недвижимостью                     312        3144077      28936   \n",
       "операции со своей недвижимостью              319        2971996      27629   \n",
       "покупка жилой недвижимости                   295        2545373      26325   \n",
       "покупка жилья                                318        3018548      27411   \n",
       "покупка жилья для сдачи                      333        2953582      27757   \n",
       "покупка жилья для семьи                      295        3048909      28270   \n",
       "покупка коммерческой недвижимости            317        3053561      29012   \n",
       "покупка недвижимости                         289        2863254      26992   \n",
       "покупка своего жилья                         316        2689384      26723   \n",
       "получение высшего образования                184        1865677      18422   \n",
       "получение дополнительного образования        217        2157536      19642   \n",
       "получение образования                        232        1953623      18844   \n",
       "приобретение автомобиля                      222        2282333      19996   \n",
       "профильное образование                       192        1953696      19073   \n",
       "ремонт жилью                                 282        2655648      25806   \n",
       "свадьба                                      368        3591470      34299   \n",
       "свой автомобиль                              247        2049385      20636   \n",
       "сделка с автомобилем                         212        2132448      19511   \n",
       "сделка с подержанным автомобилем             229        2147174      21520   \n",
       "строительство жилой недвижимости             275        2934375      26949   \n",
       "строительство недвижимости                   311        2777477      26968   \n",
       "строительство собственной недвижимости       297        2965049      27420   \n",
       "сыграть свадьбу                              344        3652614      33089   \n",
       "\n",
       "                                        education_id  family_status_id  debt  \\\n",
       "purpose                                                                        \n",
       "автомобили                                       366               522    44   \n",
       "автомобиль                                       396               454    42   \n",
       "высшее образование                               361               425    40   \n",
       "дополнительное образование                       380               480    38   \n",
       "жилье                                            521               668    46   \n",
       "заняться высшим образованием                     417               463    43   \n",
       "заняться образованием                            331               346    39   \n",
       "на покупку автомобиля                            399               467    44   \n",
       "на покупку подержанного автомобиля               391               497    36   \n",
       "на покупку своего автомобиля                     404               473    46   \n",
       "на проведение свадьбы                            605               768    64   \n",
       "недвижимость                                     498               640    42   \n",
       "образование                                      353               448    32   \n",
       "операции с жильем                                535               658    48   \n",
       "операции с коммерческой недвижимостью            513               602    52   \n",
       "операции с недвижимостью                         551               693    55   \n",
       "операции со своей недвижимостью                  548               600    50   \n",
       "покупка жилой недвижимости                       487               603    41   \n",
       "покупка жилья                                    530               604    48   \n",
       "покупка жилья для сдачи                          529               589    52   \n",
       "покупка жилья для семьи                          520               600    45   \n",
       "покупка коммерческой недвижимости                539               691    47   \n",
       "покупка недвижимости                             498               529    43   \n",
       "покупка своего жилья                             488               565    34   \n",
       "получение высшего образования                    356               413    46   \n",
       "получение дополнительного образования            367               430    51   \n",
       "получение образования                            376               413    37   \n",
       "приобретение автомобиля                          368               471    42   \n",
       "профильное образование                           382               406    44   \n",
       "ремонт жилью                                     486               608    35   \n",
       "свадьба                                          646               791    64   \n",
       "свой автомобиль                                  410               436    48   \n",
       "сделка с автомобилем                             406               466    50   \n",
       "сделка с подержанным автомобилем                 393               475    51   \n",
       "строительство жилой недвижимости                 530               649    48   \n",
       "строительство недвижимости                       525               565    54   \n",
       "строительство собственной недвижимости           516               621    42   \n",
       "сыграть свадьбу                                  609               765    58   \n",
       "\n",
       "                                        total_income  \n",
       "purpose                                               \n",
       "автомобили                                  80256590  \n",
       "автомобиль                                  82748178  \n",
       "высшее образование                          76764226  \n",
       "дополнительное образование                  74411399  \n",
       "жилье                                      107737644  \n",
       "заняться высшим образованием                76614306  \n",
       "заняться образованием                       68305436  \n",
       "на покупку автомобиля                       81138938  \n",
       "на покупку подержанного автомобиля          77214954  \n",
       "на покупку своего автомобиля                82474129  \n",
       "на проведение свадьбы                      128441224  \n",
       "недвижимость                               104925233  \n",
       "образование                                 72572672  \n",
       "операции с жильем                          112800144  \n",
       "операции с коммерческой недвижимостью      108756418  \n",
       "операции с недвижимостью                   112734967  \n",
       "операции со своей недвижимостью            101355929  \n",
       "покупка жилой недвижимости                 102961478  \n",
       "покупка жилья                              107213232  \n",
       "покупка жилья для сдачи                    106989692  \n",
       "покупка жилья для семьи                    104751056  \n",
       "покупка коммерческой недвижимости          108455831  \n",
       "покупка недвижимости                       106435154  \n",
       "покупка своего жилья                       104800963  \n",
       "получение высшего образования               70349718  \n",
       "получение дополнительного образования       69869982  \n",
       "получение образования                       74077680  \n",
       "приобретение автомобиля                     75310928  \n",
       "профильное образование                      69636827  \n",
       "ремонт жилью                               103133504  \n",
       "свадьба                                    126743028  \n",
       "свой автомобиль                             76104450  \n",
       "сделка с автомобилем                        74726742  \n",
       "сделка с подержанным автомобилем            81472001  \n",
       "строительство жилой недвижимости           103965470  \n",
       "строительство недвижимости                 100897549  \n",
       "строительство собственной недвижимости     104275242  \n",
       "сыграть свадьбу                            125343190  "
      ]
     },
     "execution_count": 34,
     "metadata": {},
     "output_type": "execute_result"
    }
   ],
   "source": [
    "root_df.groupby('purpose').sum()"
   ]
  },
  {
   "cell_type": "markdown",
   "metadata": {},
   "source": [
    "<div class=\"alert alert-warning\">\n",
    "<h2> Комментарии от ревьюера №1</h2>\n",
    "    \n",
    "Зачем группировка? 🤔\n",
    "</div>"
   ]
  },
  {
   "cell_type": "markdown",
   "metadata": {},
   "source": [
    "<div class=\"alert alert-block alert-info\">\n",
    "<b>КОММЕНТАРИЙ ОТ УЧЕНИКА:</b>\n",
    "    Группировку выполнял вместо counter, визуально по данным выделил группы для категоризации для следующего шага, посидел, подумал и понял, что для большего количества данных такое может уже и не сработать. В будущем так делать не буду)\n",
    "</div>"
   ]
  },
  {
   "cell_type": "code",
   "execution_count": 35,
   "metadata": {},
   "outputs": [],
   "source": [
    "def lemmatize_column(row):\n",
    "    lemma = stemmer.lemmatize(row['purpose'])\n",
    "    lemma = ''.join(lemma)\n",
    "    return lemma.rstrip()"
   ]
  },
  {
   "cell_type": "code",
   "execution_count": 36,
   "metadata": {},
   "outputs": [],
   "source": [
    "root_df['purpose'] = root_df.apply(lemmatize_column, axis=1)"
   ]
  },
  {
   "cell_type": "markdown",
   "metadata": {},
   "source": [
    "### Вывод"
   ]
  },
  {
   "cell_type": "markdown",
   "metadata": {},
   "source": [
    "Из всех данных только значение столбца *purpose* требует лемматизации. Это требуется для последующей категоризации данных. "
   ]
  },
  {
   "cell_type": "markdown",
   "metadata": {},
   "source": [
    "### Категоризация данных"
   ]
  },
  {
   "cell_type": "markdown",
   "metadata": {},
   "source": [
    "#### Категоризация по предназначению кредита"
   ]
  },
  {
   "cell_type": "code",
   "execution_count": 37,
   "metadata": {},
   "outputs": [],
   "source": [
    "def set_purpose_type(row):\n",
    "    \n",
    "    if 'автомобиль' in row['purpose']:\n",
    "        return \"Автомобильные кредиты\"\n",
    "    \n",
    "    elif 'жилье' in row['purpose']:\n",
    "        return \"Жилищные кредиты\"\n",
    "    \n",
    "    elif 'жилье' in row['purpose']:\n",
    "        return \"Жилищные кредиты\"\n",
    "    \n",
    "    elif 'образование' in row['purpose']:\n",
    "        return \"Кредиты на образование\"\n",
    "    \n",
    "    elif 'недвижимость' in row['purpose']:\n",
    "        return \"Кредиты на недвижимость\"\n",
    "    \n",
    "    elif 'свадьба' in row['purpose']:\n",
    "        return \"Кредиты на свадьбу\""
   ]
  },
  {
   "cell_type": "markdown",
   "metadata": {},
   "source": [
    "<div class=\"alert alert-warning\">\n",
    "<h2> Комментарии от ревьюера №1</h2>\n",
    "    \n",
    "Не понятно с чего ты делаешь выводы по данным группам для категоризации, попробуй через Counter посчитать повторение каждого слова в лемматизированном столбце\n",
    "</div>"
   ]
  },
  {
   "cell_type": "code",
   "execution_count": 38,
   "metadata": {},
   "outputs": [],
   "source": [
    "root_df['purpose_type'] = root_df.apply(set_purpose_type, axis=1)"
   ]
  },
  {
   "cell_type": "markdown",
   "metadata": {},
   "source": [
    "#### Категоризация по уровню дохода"
   ]
  },
  {
   "cell_type": "code",
   "execution_count": 39,
   "metadata": {},
   "outputs": [
    {
     "data": {
      "text/plain": [
       "165319.57229421087"
      ]
     },
     "execution_count": 39,
     "metadata": {},
     "output_type": "execute_result"
    }
   ],
   "source": [
    "total_income_mean = root_df['total_income'].mean()\n",
    "total_income_mean"
   ]
  },
  {
   "cell_type": "code",
   "execution_count": 40,
   "metadata": {},
   "outputs": [],
   "source": [
    "def set_income_type(row):\n",
    "    \n",
    "    if total_income_mean < row['total_income']  < total_income_mean * 2:\n",
    "        return \"Доход выше среднего\"\n",
    "    \n",
    "    if total_income_mean * 2 < row['total_income']:\n",
    "        return \"Сильно выше среднего\"\n",
    "    \n",
    "    if total_income_mean > row['total_income']  > total_income_mean / 2:\n",
    "        return \"Доход ниже среднего\"\n",
    "    \n",
    "    if total_income_mean /2 > row['total_income']:\n",
    "        return \"Сильно ниже среднего\"\n",
    "    \n",
    "    else:\n",
    "        return \"Средний\"\n",
    "    "
   ]
  },
  {
   "cell_type": "code",
   "execution_count": 41,
   "metadata": {},
   "outputs": [],
   "source": [
    "root_df['income_level_type'] = root_df.apply(set_income_type, axis=1)"
   ]
  },
  {
   "cell_type": "markdown",
   "metadata": {},
   "source": [
    "<div class=\"alert alert-danger\">\n",
    "<h2> Комментарии от ревьюера №1</h2>\n",
    "    \n",
    "Давай здесь все-таки выделим хотя бы один \"словарь\" для образования или семейного статуса, как нас просят в задании. После этого мы теоретически сможем вовсе удалить из основной таблицы столбец со строковым обозначением образования (или семейного статуса), что здорово сэкономит место и время обработки. Просто скопируй пару столбцов, например, 'family_status' и 'family_status_id' в новый датафрейм и удали дубликаты, как было в теории в разделе \"Классификация по типу\"\n"
   ]
  },
  {
   "cell_type": "markdown",
   "metadata": {},
   "source": [
    "<div class=\"alert alert-block alert-info\">\n",
    "<b>КОММЕНТАРИЙ ОТ УЧЕНИКА:</b>\n",
    "    То есть словари нужны только для того, чтобы снизить размерность основной таблицы ?\n",
    "    Словарь создал, соответсвтующий столбец из основного удалил.\n",
    "</div>"
   ]
  },
  {
   "cell_type": "code",
   "execution_count": 42,
   "metadata": {},
   "outputs": [
    {
     "data": {
      "text/html": [
       "<div>\n",
       "<style scoped>\n",
       "    .dataframe tbody tr th:only-of-type {\n",
       "        vertical-align: middle;\n",
       "    }\n",
       "\n",
       "    .dataframe tbody tr th {\n",
       "        vertical-align: top;\n",
       "    }\n",
       "\n",
       "    .dataframe thead th {\n",
       "        text-align: right;\n",
       "    }\n",
       "</style>\n",
       "<table border=\"1\" class=\"dataframe\">\n",
       "  <thead>\n",
       "    <tr style=\"text-align: right;\">\n",
       "      <th></th>\n",
       "      <th>education</th>\n",
       "      <th>education_id</th>\n",
       "    </tr>\n",
       "  </thead>\n",
       "  <tbody>\n",
       "    <tr>\n",
       "      <td>0</td>\n",
       "      <td>высшее</td>\n",
       "      <td>0</td>\n",
       "    </tr>\n",
       "    <tr>\n",
       "      <td>1</td>\n",
       "      <td>среднее</td>\n",
       "      <td>1</td>\n",
       "    </tr>\n",
       "    <tr>\n",
       "      <td>2</td>\n",
       "      <td>неоконченное высшее</td>\n",
       "      <td>2</td>\n",
       "    </tr>\n",
       "    <tr>\n",
       "      <td>3</td>\n",
       "      <td>начальное</td>\n",
       "      <td>3</td>\n",
       "    </tr>\n",
       "    <tr>\n",
       "      <td>4</td>\n",
       "      <td>ученая степень</td>\n",
       "      <td>4</td>\n",
       "    </tr>\n",
       "  </tbody>\n",
       "</table>\n",
       "</div>"
      ],
      "text/plain": [
       "             education  education_id\n",
       "0               высшее             0\n",
       "1              среднее             1\n",
       "2  неоконченное высшее             2\n",
       "3            начальное             3\n",
       "4       ученая степень             4"
      ]
     },
     "execution_count": 42,
     "metadata": {},
     "output_type": "execute_result"
    }
   ],
   "source": [
    "df_dict_education = pd.DataFrame()\n",
    "df_dict_education['education'] = root_df['education']\n",
    "df_dict_education['education_id'] = root_df['education_id']\n",
    "df_dict_education = df_dict_education.drop_duplicates().reset_index(drop=True)\n",
    "df_dict_education"
   ]
  },
  {
   "cell_type": "code",
   "execution_count": 43,
   "metadata": {},
   "outputs": [
    {
     "data": {
      "text/html": [
       "<div>\n",
       "<style scoped>\n",
       "    .dataframe tbody tr th:only-of-type {\n",
       "        vertical-align: middle;\n",
       "    }\n",
       "\n",
       "    .dataframe tbody tr th {\n",
       "        vertical-align: top;\n",
       "    }\n",
       "\n",
       "    .dataframe thead th {\n",
       "        text-align: right;\n",
       "    }\n",
       "</style>\n",
       "<table border=\"1\" class=\"dataframe\">\n",
       "  <thead>\n",
       "    <tr style=\"text-align: right;\">\n",
       "      <th></th>\n",
       "      <th>children</th>\n",
       "      <th>days_employed</th>\n",
       "      <th>dob_years</th>\n",
       "      <th>education_id</th>\n",
       "      <th>family_status</th>\n",
       "      <th>family_status_id</th>\n",
       "      <th>gender</th>\n",
       "      <th>income_type</th>\n",
       "      <th>debt</th>\n",
       "      <th>total_income</th>\n",
       "      <th>purpose</th>\n",
       "      <th>purpose_type</th>\n",
       "      <th>income_level_type</th>\n",
       "    </tr>\n",
       "  </thead>\n",
       "  <tbody>\n",
       "    <tr>\n",
       "      <td>0</td>\n",
       "      <td>1</td>\n",
       "      <td>8437</td>\n",
       "      <td>42</td>\n",
       "      <td>0</td>\n",
       "      <td>женат / замужем</td>\n",
       "      <td>0</td>\n",
       "      <td>F</td>\n",
       "      <td>сотрудник</td>\n",
       "      <td>0</td>\n",
       "      <td>253875</td>\n",
       "      <td>покупка жилье</td>\n",
       "      <td>Жилищные кредиты</td>\n",
       "      <td>Доход выше среднего</td>\n",
       "    </tr>\n",
       "    <tr>\n",
       "      <td>1</td>\n",
       "      <td>1</td>\n",
       "      <td>4024</td>\n",
       "      <td>36</td>\n",
       "      <td>1</td>\n",
       "      <td>женат / замужем</td>\n",
       "      <td>0</td>\n",
       "      <td>F</td>\n",
       "      <td>сотрудник</td>\n",
       "      <td>0</td>\n",
       "      <td>112080</td>\n",
       "      <td>приобретение автомобиль</td>\n",
       "      <td>Автомобильные кредиты</td>\n",
       "      <td>Доход ниже среднего</td>\n",
       "    </tr>\n",
       "    <tr>\n",
       "      <td>2</td>\n",
       "      <td>0</td>\n",
       "      <td>5623</td>\n",
       "      <td>33</td>\n",
       "      <td>1</td>\n",
       "      <td>женат / замужем</td>\n",
       "      <td>0</td>\n",
       "      <td>M</td>\n",
       "      <td>сотрудник</td>\n",
       "      <td>0</td>\n",
       "      <td>145885</td>\n",
       "      <td>покупка жилье</td>\n",
       "      <td>Жилищные кредиты</td>\n",
       "      <td>Доход ниже среднего</td>\n",
       "    </tr>\n",
       "    <tr>\n",
       "      <td>3</td>\n",
       "      <td>3</td>\n",
       "      <td>4124</td>\n",
       "      <td>32</td>\n",
       "      <td>1</td>\n",
       "      <td>женат / замужем</td>\n",
       "      <td>0</td>\n",
       "      <td>M</td>\n",
       "      <td>сотрудник</td>\n",
       "      <td>0</td>\n",
       "      <td>267628</td>\n",
       "      <td>дополнительный образование</td>\n",
       "      <td>Кредиты на образование</td>\n",
       "      <td>Доход выше среднего</td>\n",
       "    </tr>\n",
       "    <tr>\n",
       "      <td>4</td>\n",
       "      <td>0</td>\n",
       "      <td>14177</td>\n",
       "      <td>53</td>\n",
       "      <td>1</td>\n",
       "      <td>гражданский брак</td>\n",
       "      <td>1</td>\n",
       "      <td>F</td>\n",
       "      <td>пенсионер</td>\n",
       "      <td>0</td>\n",
       "      <td>158616</td>\n",
       "      <td>сыграть свадьба</td>\n",
       "      <td>Кредиты на свадьбу</td>\n",
       "      <td>Доход ниже среднего</td>\n",
       "    </tr>\n",
       "    <tr>\n",
       "      <td>5</td>\n",
       "      <td>0</td>\n",
       "      <td>926</td>\n",
       "      <td>27</td>\n",
       "      <td>0</td>\n",
       "      <td>гражданский брак</td>\n",
       "      <td>1</td>\n",
       "      <td>M</td>\n",
       "      <td>компаньон</td>\n",
       "      <td>0</td>\n",
       "      <td>255763</td>\n",
       "      <td>покупка жилье</td>\n",
       "      <td>Жилищные кредиты</td>\n",
       "      <td>Доход выше среднего</td>\n",
       "    </tr>\n",
       "    <tr>\n",
       "      <td>6</td>\n",
       "      <td>0</td>\n",
       "      <td>2879</td>\n",
       "      <td>43</td>\n",
       "      <td>0</td>\n",
       "      <td>женат / замужем</td>\n",
       "      <td>0</td>\n",
       "      <td>F</td>\n",
       "      <td>компаньон</td>\n",
       "      <td>0</td>\n",
       "      <td>240525</td>\n",
       "      <td>операция с жилье</td>\n",
       "      <td>Жилищные кредиты</td>\n",
       "      <td>Доход выше среднего</td>\n",
       "    </tr>\n",
       "    <tr>\n",
       "      <td>7</td>\n",
       "      <td>0</td>\n",
       "      <td>152</td>\n",
       "      <td>50</td>\n",
       "      <td>1</td>\n",
       "      <td>женат / замужем</td>\n",
       "      <td>0</td>\n",
       "      <td>M</td>\n",
       "      <td>сотрудник</td>\n",
       "      <td>0</td>\n",
       "      <td>135823</td>\n",
       "      <td>образование</td>\n",
       "      <td>Кредиты на образование</td>\n",
       "      <td>Доход ниже среднего</td>\n",
       "    </tr>\n",
       "    <tr>\n",
       "      <td>8</td>\n",
       "      <td>2</td>\n",
       "      <td>6929</td>\n",
       "      <td>35</td>\n",
       "      <td>0</td>\n",
       "      <td>гражданский брак</td>\n",
       "      <td>1</td>\n",
       "      <td>F</td>\n",
       "      <td>сотрудник</td>\n",
       "      <td>0</td>\n",
       "      <td>95856</td>\n",
       "      <td>на проведение свадьба</td>\n",
       "      <td>Кредиты на свадьбу</td>\n",
       "      <td>Доход ниже среднего</td>\n",
       "    </tr>\n",
       "    <tr>\n",
       "      <td>9</td>\n",
       "      <td>0</td>\n",
       "      <td>2188</td>\n",
       "      <td>41</td>\n",
       "      <td>1</td>\n",
       "      <td>женат / замужем</td>\n",
       "      <td>0</td>\n",
       "      <td>M</td>\n",
       "      <td>сотрудник</td>\n",
       "      <td>0</td>\n",
       "      <td>144425</td>\n",
       "      <td>покупка жилье для семья</td>\n",
       "      <td>Жилищные кредиты</td>\n",
       "      <td>Доход ниже среднего</td>\n",
       "    </tr>\n",
       "  </tbody>\n",
       "</table>\n",
       "</div>"
      ],
      "text/plain": [
       "   children  days_employed  dob_years  education_id     family_status  \\\n",
       "0         1           8437         42             0   женат / замужем   \n",
       "1         1           4024         36             1   женат / замужем   \n",
       "2         0           5623         33             1   женат / замужем   \n",
       "3         3           4124         32             1   женат / замужем   \n",
       "4         0          14177         53             1  гражданский брак   \n",
       "5         0            926         27             0  гражданский брак   \n",
       "6         0           2879         43             0   женат / замужем   \n",
       "7         0            152         50             1   женат / замужем   \n",
       "8         2           6929         35             0  гражданский брак   \n",
       "9         0           2188         41             1   женат / замужем   \n",
       "\n",
       "   family_status_id gender income_type  debt  total_income  \\\n",
       "0                 0      F   сотрудник     0        253875   \n",
       "1                 0      F   сотрудник     0        112080   \n",
       "2                 0      M   сотрудник     0        145885   \n",
       "3                 0      M   сотрудник     0        267628   \n",
       "4                 1      F   пенсионер     0        158616   \n",
       "5                 1      M   компаньон     0        255763   \n",
       "6                 0      F   компаньон     0        240525   \n",
       "7                 0      M   сотрудник     0        135823   \n",
       "8                 1      F   сотрудник     0         95856   \n",
       "9                 0      M   сотрудник     0        144425   \n",
       "\n",
       "                      purpose            purpose_type    income_level_type  \n",
       "0               покупка жилье        Жилищные кредиты  Доход выше среднего  \n",
       "1     приобретение автомобиль   Автомобильные кредиты  Доход ниже среднего  \n",
       "2               покупка жилье        Жилищные кредиты  Доход ниже среднего  \n",
       "3  дополнительный образование  Кредиты на образование  Доход выше среднего  \n",
       "4             сыграть свадьба      Кредиты на свадьбу  Доход ниже среднего  \n",
       "5               покупка жилье        Жилищные кредиты  Доход выше среднего  \n",
       "6            операция с жилье        Жилищные кредиты  Доход выше среднего  \n",
       "7                 образование  Кредиты на образование  Доход ниже среднего  \n",
       "8       на проведение свадьба      Кредиты на свадьбу  Доход ниже среднего  \n",
       "9     покупка жилье для семья        Жилищные кредиты  Доход ниже среднего  "
      ]
     },
     "execution_count": 43,
     "metadata": {},
     "output_type": "execute_result"
    }
   ],
   "source": [
    "root_df = root_df.drop('education',axis='columns')\n",
    "root_df.head(10)"
   ]
  },
  {
   "cell_type": "markdown",
   "metadata": {},
   "source": [
    "### Вывод"
   ]
  },
  {
   "cell_type": "markdown",
   "metadata": {},
   "source": [
    "Так-как по заданию необходимо ответить на три вопроса, то категоризацию данных необходимо провести таким образом, чтобы полученные категорию наблюдений помогли в этом. "
   ]
  },
  {
   "cell_type": "markdown",
   "metadata": {},
   "source": [
    "### Шаг 3. Ответьте на вопросы"
   ]
  },
  {
   "cell_type": "markdown",
   "metadata": {},
   "source": [
    "- Есть ли зависимость между наличием детей и возвратом кредита в срок?"
   ]
  },
  {
   "cell_type": "markdown",
   "metadata": {},
   "source": [
    "##### Группируем по количеству детей и находим количество наблюдений в каждой группе"
   ]
  },
  {
   "cell_type": "code",
   "execution_count": 44,
   "metadata": {},
   "outputs": [],
   "source": [
    "grouped_by_children = root_df.groupby('children').sum()\n",
    "grouped_by_children['total_obs'] = root_df.groupby('children')['children'].count()"
   ]
  },
  {
   "cell_type": "markdown",
   "metadata": {},
   "source": [
    "##### Найдем отношение количества должников к количеству наблюдений, сгруппированных по количеству детей"
   ]
  },
  {
   "cell_type": "code",
   "execution_count": 45,
   "metadata": {},
   "outputs": [
    {
     "data": {
      "text/plain": [
       "children\n",
       "4    9.756098\n",
       "2    9.492481\n",
       "1    9.165808\n",
       "3    8.181818\n",
       "0    7.543822\n",
       "5    0.000000\n",
       "Name: children_to_debt, dtype: float64"
      ]
     },
     "execution_count": 45,
     "metadata": {},
     "output_type": "execute_result"
    }
   ],
   "source": [
    "grouped_by_children['children_to_debt'] = grouped_by_children.debt/grouped_by_children.total_obs*100\n",
    "grouped_by_children['children_to_debt'].sort_values(ascending=False)"
   ]
  },
  {
   "cell_type": "markdown",
   "metadata": {},
   "source": [
    "### Вывод"
   ]
  },
  {
   "cell_type": "markdown",
   "metadata": {},
   "source": [
    "Чаще всего не отдают кредиты люди, у которых в семье 1, 2 или 4 ребенка, это случается *9.1-9.8%* случаев.\n",
    "Люди, у которых 3 ребенка или нет детей совсем отдают кредиты в срок чаще, *8.2%* и *7.5%* соответсвенно.\n",
    "Люди, у которых 5 детей - отдают кредиты в 100% случаев, что очень похоже на ошибку при сборе данных, однако, заменить эти значения не представляется возможным."
   ]
  },
  {
   "cell_type": "markdown",
   "metadata": {},
   "source": [
    "- Есть ли зависимость между семейным положением и возвратом кредита в срок?"
   ]
  },
  {
   "cell_type": "markdown",
   "metadata": {},
   "source": [
    "##### Группируем по семейному положению и находим количество наблюдений в каждой группе"
   ]
  },
  {
   "cell_type": "code",
   "execution_count": 46,
   "metadata": {},
   "outputs": [],
   "source": [
    "grouped_by_family_status = root_df.groupby('family_status').sum()\n",
    "grouped_by_family_status['total_obs'] = root_df.groupby('family_status')['family_status'].count()"
   ]
  },
  {
   "cell_type": "markdown",
   "metadata": {},
   "source": [
    "##### Найдем отношение количества должников к общему количеству наблюдений, сгруппированных по семейному положению"
   ]
  },
  {
   "cell_type": "code",
   "execution_count": 47,
   "metadata": {},
   "outputs": [
    {
     "data": {
      "text/plain": [
       "family_status\n",
       "не женат / не замужем    9.750890\n",
       "гражданский брак         9.347145\n",
       "женат / замужем          7.545182\n",
       "в разводе                7.112971\n",
       "вдовец / вдова           6.569343\n",
       "Name: family_status_to_debt, dtype: float64"
      ]
     },
     "execution_count": 47,
     "metadata": {},
     "output_type": "execute_result"
    }
   ],
   "source": [
    "grouped_by_family_status['family_status_to_debt'] = grouped_by_family_status.debt/grouped_by_family_status.total_obs*100\n",
    "grouped_by_family_status['family_status_to_debt'].sort_values(ascending=False)"
   ]
  },
  {
   "cell_type": "markdown",
   "metadata": {},
   "source": [
    "### Вывод"
   ]
  },
  {
   "cell_type": "markdown",
   "metadata": {},
   "source": [
    "Люди **не состоящие в браке** или **состоящие в гражданском браке** - чаще всего не возвращают кредиты, *9.75%* и *9.35%* соответсвенно. **Разведенные люди** и люди, **состоящие в официальном браке** не возвращают кредиты в *7.55%* и *7.11%* случаях соответсвенно. **Вдовы и вдовцы** наименее рискованная категория с *6.6%*"
   ]
  },
  {
   "cell_type": "markdown",
   "metadata": {},
   "source": [
    "- Есть ли зависимость между уровнем дохода и возвратом кредита в срок?"
   ]
  },
  {
   "cell_type": "markdown",
   "metadata": {},
   "source": [
    "##### Группируем по уровню дохода и находим количество наблюдений в каждой группе"
   ]
  },
  {
   "cell_type": "code",
   "execution_count": 48,
   "metadata": {},
   "outputs": [
    {
     "data": {
      "text/html": [
       "<div>\n",
       "<style scoped>\n",
       "    .dataframe tbody tr th:only-of-type {\n",
       "        vertical-align: middle;\n",
       "    }\n",
       "\n",
       "    .dataframe tbody tr th {\n",
       "        vertical-align: top;\n",
       "    }\n",
       "\n",
       "    .dataframe thead th {\n",
       "        text-align: right;\n",
       "    }\n",
       "</style>\n",
       "<table border=\"1\" class=\"dataframe\">\n",
       "  <thead>\n",
       "    <tr style=\"text-align: right;\">\n",
       "      <th></th>\n",
       "      <th>children</th>\n",
       "      <th>days_employed</th>\n",
       "      <th>dob_years</th>\n",
       "      <th>education_id</th>\n",
       "      <th>family_status_id</th>\n",
       "      <th>debt</th>\n",
       "      <th>total_income</th>\n",
       "      <th>total_obs</th>\n",
       "    </tr>\n",
       "    <tr>\n",
       "      <th>income_level_type</th>\n",
       "      <th></th>\n",
       "      <th></th>\n",
       "      <th></th>\n",
       "      <th></th>\n",
       "      <th></th>\n",
       "      <th></th>\n",
       "      <th></th>\n",
       "      <th></th>\n",
       "    </tr>\n",
       "  </thead>\n",
       "  <tbody>\n",
       "    <tr>\n",
       "      <td>Доход выше среднего</td>\n",
       "      <td>3468</td>\n",
       "      <td>26914842</td>\n",
       "      <td>299097</td>\n",
       "      <td>5322</td>\n",
       "      <td>6783</td>\n",
       "      <td>546</td>\n",
       "      <td>1544342632</td>\n",
       "      <td>7080</td>\n",
       "    </tr>\n",
       "    <tr>\n",
       "      <td>Доход ниже среднего</td>\n",
       "      <td>5192</td>\n",
       "      <td>50487029</td>\n",
       "      <td>464590</td>\n",
       "      <td>9199</td>\n",
       "      <td>10773</td>\n",
       "      <td>920</td>\n",
       "      <td>1343137330</td>\n",
       "      <td>10724</td>\n",
       "    </tr>\n",
       "    <tr>\n",
       "      <td>Сильно выше среднего</td>\n",
       "      <td>591</td>\n",
       "      <td>4007692</td>\n",
       "      <td>46550</td>\n",
       "      <td>569</td>\n",
       "      <td>1006</td>\n",
       "      <td>78</td>\n",
       "      <td>492760871</td>\n",
       "      <td>1091</td>\n",
       "    </tr>\n",
       "    <tr>\n",
       "      <td>Сильно ниже среднего</td>\n",
       "      <td>1059</td>\n",
       "      <td>16950774</td>\n",
       "      <td>118104</td>\n",
       "      <td>2440</td>\n",
       "      <td>2332</td>\n",
       "      <td>197</td>\n",
       "      <td>166525271</td>\n",
       "      <td>2559</td>\n",
       "    </tr>\n",
       "  </tbody>\n",
       "</table>\n",
       "</div>"
      ],
      "text/plain": [
       "                      children  days_employed  dob_years  education_id  \\\n",
       "income_level_type                                                        \n",
       "Доход выше среднего       3468       26914842     299097          5322   \n",
       "Доход ниже среднего       5192       50487029     464590          9199   \n",
       "Сильно выше среднего       591        4007692      46550           569   \n",
       "Сильно ниже среднего      1059       16950774     118104          2440   \n",
       "\n",
       "                      family_status_id  debt  total_income  total_obs  \n",
       "income_level_type                                                      \n",
       "Доход выше среднего               6783   546    1544342632       7080  \n",
       "Доход ниже среднего              10773   920    1343137330      10724  \n",
       "Сильно выше среднего              1006    78     492760871       1091  \n",
       "Сильно ниже среднего              2332   197     166525271       2559  "
      ]
     },
     "execution_count": 48,
     "metadata": {},
     "output_type": "execute_result"
    }
   ],
   "source": [
    "grouped_by_income_level_type = root_df.groupby('income_level_type').sum()\n",
    "grouped_by_income_level_type['total_obs'] = root_df.groupby('income_level_type')['income_level_type'].count()\n",
    "grouped_by_income_level_type"
   ]
  },
  {
   "cell_type": "markdown",
   "metadata": {},
   "source": [
    "##### Найдем отношение количества должников к общему количеству наблюдений, сгруппированных по уровню дохода"
   ]
  },
  {
   "cell_type": "code",
   "execution_count": 49,
   "metadata": {},
   "outputs": [],
   "source": [
    "grouped_by_income_level_type['income_level_to_debt']=(\n",
    "    grouped_by_income_level_type.debt/grouped_by_income_level_type.total_obs*100\n",
    ")"
   ]
  },
  {
   "cell_type": "code",
   "execution_count": 50,
   "metadata": {},
   "outputs": [
    {
     "data": {
      "text/plain": [
       "income_level_type\n",
       "Доход ниже среднего     8.578888\n",
       "Доход выше среднего     7.711864\n",
       "Сильно ниже среднего    7.698320\n",
       "Сильно выше среднего    7.149404\n",
       "Name: income_level_to_debt, dtype: float64"
      ]
     },
     "execution_count": 50,
     "metadata": {},
     "output_type": "execute_result"
    }
   ],
   "source": [
    "grouped_by_income_level_type['income_level_to_debt'].sort_values(ascending=False)"
   ]
  },
  {
   "cell_type": "markdown",
   "metadata": {},
   "source": [
    "### Вывод"
   ]
  },
  {
   "cell_type": "markdown",
   "metadata": {},
   "source": [
    "Люди, у которых доход ниже среднего чаще остальных не отдают кредиты. При этом люди, у которых доход сильно ниже среднего отдают кредиты чаще, возможно, это связанно с льготными условиями или с тем фактом, чтом им готовы одобрить лишь незначительные суммы. "
   ]
  },
  {
   "cell_type": "markdown",
   "metadata": {},
   "source": [
    "- Как разные цели кредита влияют на его возврат в срок?"
   ]
  },
  {
   "cell_type": "markdown",
   "metadata": {},
   "source": [
    "##### Группируем по назначению кредита и находим количество наблюдений в каждой группе"
   ]
  },
  {
   "cell_type": "code",
   "execution_count": 51,
   "metadata": {},
   "outputs": [],
   "source": [
    "grouped_by_purpose_type = root_df.groupby('purpose_type').sum()\n",
    "grouped_by_purpose_type['total_obs'] = root_df.groupby('purpose_type')['purpose_type'].count()"
   ]
  },
  {
   "cell_type": "markdown",
   "metadata": {},
   "source": [
    "##### Найдем отношение количества должников к общему количеству наблюдений, сгруппированным по назначению кредита"
   ]
  },
  {
   "cell_type": "code",
   "execution_count": 52,
   "metadata": {},
   "outputs": [
    {
     "data": {
      "text/plain": [
       "purpose_type\n",
       "Автомобильные кредиты      9.359034\n",
       "Кредиты на образование     9.220035\n",
       "Кредиты на свадьбу         8.003442\n",
       "Кредиты на недвижимость    7.463392\n",
       "Жилищные кредиты           6.905830\n",
       "Name: purpose_to_debt, dtype: float64"
      ]
     },
     "execution_count": 52,
     "metadata": {},
     "output_type": "execute_result"
    }
   ],
   "source": [
    "grouped_by_purpose_type['purpose_to_debt'] = grouped_by_purpose_type.debt/grouped_by_purpose_type.total_obs*100\n",
    "grouped_by_purpose_type['purpose_to_debt'].sort_values(ascending=False)"
   ]
  },
  {
   "cell_type": "markdown",
   "metadata": {},
   "source": [
    "### Вывод"
   ]
  },
  {
   "cell_type": "markdown",
   "metadata": {},
   "source": [
    "Чаще всего имеют задолженности по кредиту люди, которые берут их на **образовательные цели** или на различные **операции с автомобилями**, *9.22%* и *9.33%* соответсвенно. **Жилищные кредиты** возвращаются чаще всего, среди клиентов банка только *6.9%* людей имеющих задолженность по кредиту на операции с жильем. В середине топ по риску находятся **кредиты на недвижимость** *7.4%* и **кредиты на свадьбу** 8%"
   ]
  },
  {
   "cell_type": "markdown",
   "metadata": {},
   "source": [
    "### Шаг 4. Общий вывод"
   ]
  },
  {
   "cell_type": "markdown",
   "metadata": {},
   "source": [
    "Мы получили метрики, которые показывают, в каком проценте случаев та или иная категория клиентов банка имеет задолженности по кредиту. Это поможет сформировать примерны портрет потребителя, которому кредит выдавать не стоит. Так же данные очищены и на их основе можно построить модель, решающую задачу регресии, чтобы узнать, насколько сильно каждый фактор влияет на вероятность выплаты кредиты в срок. "
   ]
  },
  {
   "cell_type": "markdown",
   "metadata": {},
   "source": [
    "### Чек-лист готовности проекта\n",
    "\n",
    "Поставьте 'x' в выполненных пунктах. Далее нажмите Shift+Enter."
   ]
  },
  {
   "cell_type": "markdown",
   "metadata": {},
   "source": [
    "- [x]  открыт файл;\n",
    "- [x]  файл изучен;\n",
    "- [x]  определены пропущенные значения;\n",
    "- [x]  заполнены пропущенные значения;\n",
    "- [x]  есть пояснение, какие пропущенные значения обнаружены;\n",
    "- [x]  описаны возможные причины появления пропусков в данных;\n",
    "- [x]  объяснено, по какому принципу заполнены пропуски;\n",
    "- [x]  заменен вещественный тип данных на целочисленный;\n",
    "- [x]  есть пояснение, какой метод используется для изменения типа данных и почему;\n",
    "- [x]  удалены дубликаты;\n",
    "- [x]  есть пояснение, какой метод используется для поиска и удаления дубликатов;\n",
    "- [x]  описаны возможные причины появления дубликатов в данных;\n",
    "- [x]  выделены леммы в значениях столбца с целями получения кредита;\n",
    "- [x]  описан процесс лемматизации;\n",
    "- [x]  данные категоризированы;\n",
    "- [x]  есть объяснение принципа категоризации данных;\n",
    "- [x]  есть ответ на вопрос: \"Есть ли зависимость между наличием детей и возвратом кредита в срок?\";\n",
    "- [x]  есть ответ на вопрос: \"Есть ли зависимость между семейным положением и возвратом кредита в срок?\";\n",
    "- [x]  есть ответ на вопрос: \"Есть ли зависимость между уровнем дохода и возвратом кредита в срок?\";\n",
    "- [x]  есть ответ на вопрос: \"Как разные цели кредита влияют на его возврат в срок?\";\n",
    "- [x]  в каждом этапе есть выводы;\n",
    "- [x]  есть общий вывод."
   ]
  },
  {
   "cell_type": "markdown",
   "metadata": {},
   "source": [
    "<div class=\"alert alert-success\">\n",
    "<h2> Комментарии от ревьюера №1</h2>\n",
    "    \n",
    "Ты большой молодец, твой проект выполнен сейчас на 90% и я не могу не отправить тебе его обратно, чтобы мы все таки пришли к 100%, думаю это не займет у тебя много времени.\n",
    "    \n",
    "Обрати внимание на следующее:\n",
    "\n",
    "    1) Предобработка данных (момент со стажем работы)\n",
    "    2) Категоризация данных\n",
    "    \n",
    "Жду скорее твою работу на повторную проверку!\n",
    "\n",
    "\n",
    "</div>\n"
   ]
  },
  {
   "cell_type": "markdown",
   "metadata": {},
   "source": [
    "<div class=\"alert alert-block alert-info\">\n",
    "<b>КОММЕНТАРИЙ ОТ УЧЕНИКА:</b>\n",
    "    Большое спасибо за советы, желтые карточки утчту на будущее. Красные поправил.\n",
    "</div>"
   ]
  }
 ],
 "metadata": {
  "kernelspec": {
   "display_name": "Python 3",
   "language": "python",
   "name": "python3"
  },
  "language_info": {
   "codemirror_mode": {
    "name": "ipython",
    "version": 3
   },
   "file_extension": ".py",
   "mimetype": "text/x-python",
   "name": "python",
   "nbconvert_exporter": "python",
   "pygments_lexer": "ipython3",
   "version": "3.7.8"
  },
  "toc": {
   "base_numbering": 1,
   "nav_menu": {},
   "number_sections": true,
   "sideBar": true,
   "skip_h1_title": true,
   "title_cell": "Table of Contents",
   "title_sidebar": "Contents",
   "toc_cell": false,
   "toc_position": {},
   "toc_section_display": true,
   "toc_window_display": false
  }
 },
 "nbformat": 4,
 "nbformat_minor": 2
}
